{
 "cells": [
  {
   "cell_type": "code",
   "execution_count": 1,
   "id": "1d57f7f4-2087-4c45-9b25-1eafe953df95",
   "metadata": {},
   "outputs": [],
   "source": [
    "import numpy as np\n",
    "import pandas as pd\n",
    "import matplotlib.pyplot as plt"
   ]
  },
  {
   "cell_type": "code",
   "execution_count": 2,
   "id": "c90a88b0-09d3-4857-abbe-983c978652d4",
   "metadata": {},
   "outputs": [],
   "source": [
    "%matplotlib inline\n",
    "\n",
    "pd.set_option('display.max_colwidth', 200)\n",
    "pd.set_option('display.max_columns', None)\n",
    "pd.set_option('display.max_rows', None)"
   ]
  },
  {
   "cell_type": "code",
   "execution_count": 3,
   "id": "3db7335b-74c1-43ab-96e5-07cd636c9767",
   "metadata": {},
   "outputs": [],
   "source": [
    "rawdata = pd.read_csv(\"data.csv\")"
   ]
  },
  {
   "cell_type": "code",
   "execution_count": 4,
   "id": "4aa38aa4-b26b-4137-8f18-166ac80c6400",
   "metadata": {},
   "outputs": [
    {
     "data": {
      "text/html": [
       "<div>\n",
       "<style scoped>\n",
       "    .dataframe tbody tr th:only-of-type {\n",
       "        vertical-align: middle;\n",
       "    }\n",
       "\n",
       "    .dataframe tbody tr th {\n",
       "        vertical-align: top;\n",
       "    }\n",
       "\n",
       "    .dataframe thead th {\n",
       "        text-align: right;\n",
       "    }\n",
       "</style>\n",
       "<table border=\"1\" class=\"dataframe\">\n",
       "  <thead>\n",
       "    <tr style=\"text-align: right;\">\n",
       "      <th></th>\n",
       "      <th>Household_ID</th>\n",
       "      <th>City</th>\n",
       "      <th>Latitude</th>\n",
       "      <th>House_Type</th>\n",
       "      <th>Roof_Type</th>\n",
       "      <th>Roof_Pitch</th>\n",
       "      <th>Roof_Azimuth</th>\n",
       "      <th>Floors</th>\n",
       "      <th>Financed</th>\n",
       "      <th>Year</th>\n",
       "      <th>Panel_Capacity</th>\n",
       "      <th>Shading</th>\n",
       "      <th>Generation</th>\n",
       "    </tr>\n",
       "  </thead>\n",
       "  <tbody>\n",
       "    <tr>\n",
       "      <th>0</th>\n",
       "      <td>A553C5784D</td>\n",
       "      <td>Brisbane</td>\n",
       "      <td>NaN</td>\n",
       "      <td>NaN</td>\n",
       "      <td>Steel</td>\n",
       "      <td>10.0</td>\n",
       "      <td>21.0</td>\n",
       "      <td>Double</td>\n",
       "      <td>No</td>\n",
       "      <td>2019</td>\n",
       "      <td>5040</td>\n",
       "      <td>None</td>\n",
       "      <td>10163.796</td>\n",
       "    </tr>\n",
       "    <tr>\n",
       "      <th>1</th>\n",
       "      <td>1A12B988A0</td>\n",
       "      <td>Brisbane</td>\n",
       "      <td>-27.217398</td>\n",
       "      <td>Timber Frame</td>\n",
       "      <td>Tile</td>\n",
       "      <td>35.0</td>\n",
       "      <td>50.0</td>\n",
       "      <td>Single</td>\n",
       "      <td>Yes</td>\n",
       "      <td>2011</td>\n",
       "      <td>5880</td>\n",
       "      <td>NaN</td>\n",
       "      <td>10876.910</td>\n",
       "    </tr>\n",
       "    <tr>\n",
       "      <th>2</th>\n",
       "      <td>D23C0BBB05</td>\n",
       "      <td>Brisbane</td>\n",
       "      <td>-27.252449</td>\n",
       "      <td>Double Brick</td>\n",
       "      <td>NaN</td>\n",
       "      <td>20.0</td>\n",
       "      <td>272.0</td>\n",
       "      <td>Single</td>\n",
       "      <td>Yes</td>\n",
       "      <td>2018</td>\n",
       "      <td>5040</td>\n",
       "      <td>NaN</td>\n",
       "      <td>9400.415</td>\n",
       "    </tr>\n",
       "    <tr>\n",
       "      <th>3</th>\n",
       "      <td>E67A638AD3</td>\n",
       "      <td>Brisbane</td>\n",
       "      <td>-27.042364</td>\n",
       "      <td>Timber Frame</td>\n",
       "      <td>Steel</td>\n",
       "      <td>35.0</td>\n",
       "      <td>247.0</td>\n",
       "      <td>NaN</td>\n",
       "      <td>Yes</td>\n",
       "      <td>2012</td>\n",
       "      <td>5040</td>\n",
       "      <td>None</td>\n",
       "      <td>7747.349</td>\n",
       "    </tr>\n",
       "    <tr>\n",
       "      <th>4</th>\n",
       "      <td>7F266FCAD1</td>\n",
       "      <td>Brisbane</td>\n",
       "      <td>-27.432734</td>\n",
       "      <td>Other</td>\n",
       "      <td>Steel</td>\n",
       "      <td>10.0</td>\n",
       "      <td>39.0</td>\n",
       "      <td>Double</td>\n",
       "      <td>Yes</td>\n",
       "      <td>2012</td>\n",
       "      <td>5880</td>\n",
       "      <td>None</td>\n",
       "      <td>10987.674</td>\n",
       "    </tr>\n",
       "  </tbody>\n",
       "</table>\n",
       "</div>"
      ],
      "text/plain": [
       "  Household_ID      City   Latitude    House_Type Roof_Type  Roof_Pitch  \\\n",
       "0   A553C5784D  Brisbane        NaN           NaN     Steel        10.0   \n",
       "1   1A12B988A0  Brisbane -27.217398  Timber Frame      Tile        35.0   \n",
       "2   D23C0BBB05  Brisbane -27.252449  Double Brick       NaN        20.0   \n",
       "3   E67A638AD3  Brisbane -27.042364  Timber Frame     Steel        35.0   \n",
       "4   7F266FCAD1  Brisbane -27.432734         Other     Steel        10.0   \n",
       "\n",
       "   Roof_Azimuth  Floors Financed  Year  Panel_Capacity Shading  Generation  \n",
       "0          21.0  Double       No  2019            5040    None   10163.796  \n",
       "1          50.0  Single      Yes  2011            5880     NaN   10876.910  \n",
       "2         272.0  Single      Yes  2018            5040     NaN    9400.415  \n",
       "3         247.0     NaN      Yes  2012            5040    None    7747.349  \n",
       "4          39.0  Double      Yes  2012            5880    None   10987.674  "
      ]
     },
     "execution_count": 4,
     "metadata": {},
     "output_type": "execute_result"
    }
   ],
   "source": [
    "rawdata.head()"
   ]
  },
  {
   "cell_type": "code",
   "execution_count": 5,
   "id": "8cd81268-7a7b-4b41-93b2-3813d9c55719",
   "metadata": {},
   "outputs": [
    {
     "name": "stdout",
     "output_type": "stream",
     "text": [
      "<class 'pandas.core.frame.DataFrame'>\n",
      "RangeIndex: 3000 entries, 0 to 2999\n",
      "Data columns (total 13 columns):\n",
      " #   Column          Non-Null Count  Dtype  \n",
      "---  ------          --------------  -----  \n",
      " 0   Household_ID    3000 non-null   object \n",
      " 1   City            3000 non-null   object \n",
      " 2   Latitude        2930 non-null   float64\n",
      " 3   House_Type      2818 non-null   object \n",
      " 4   Roof_Type       2661 non-null   object \n",
      " 5   Roof_Pitch      2972 non-null   float64\n",
      " 6   Roof_Azimuth    2916 non-null   float64\n",
      " 7   Floors          2731 non-null   object \n",
      " 8   Financed        3000 non-null   object \n",
      " 9   Year            3000 non-null   int64  \n",
      " 10  Panel_Capacity  3000 non-null   int64  \n",
      " 11  Shading         2904 non-null   object \n",
      " 12  Generation      3000 non-null   float64\n",
      "dtypes: float64(4), int64(2), object(7)\n",
      "memory usage: 304.8+ KB\n"
     ]
    }
   ],
   "source": [
    "rawdata.info()"
   ]
  },
  {
   "cell_type": "code",
   "execution_count": 6,
   "id": "22c40b93-01be-4ff1-bc73-20dd242caccf",
   "metadata": {},
   "outputs": [
    {
     "data": {
      "text/plain": [
       "Roof_Type         339\n",
       "Floors            269\n",
       "House_Type        182\n",
       "Shading            96\n",
       "Roof_Azimuth       84\n",
       "Latitude           70\n",
       "Roof_Pitch         28\n",
       "Household_ID        0\n",
       "City                0\n",
       "Financed            0\n",
       "Year                0\n",
       "Panel_Capacity      0\n",
       "Generation          0\n",
       "dtype: int64"
      ]
     },
     "execution_count": 6,
     "metadata": {},
     "output_type": "execute_result"
    }
   ],
   "source": [
    "rawdata.isnull().sum().sort_values(ascending = False)"
   ]
  },
  {
   "cell_type": "code",
   "execution_count": 7,
   "id": "6d602151-ef06-487e-ad28-4f5172c0707e",
   "metadata": {},
   "outputs": [],
   "source": [
    "cleandata = rawdata.copy()"
   ]
  },
  {
   "cell_type": "code",
   "execution_count": 8,
   "id": "aef3afd3-c462-415e-9ffd-d82c2763da10",
   "metadata": {},
   "outputs": [],
   "source": [
    "cleandata = cleandata.dropna()\n",
    "\n",
    "# cleandata['Latitude'] = cleandata['Latitude'].fillna(0)\n",
    "# cleandata['Roof_Pitch'] = cleandata['Roof_Pitch'].fillna(0)\n",
    "# cleandata['Roof_Azimuth'] = cleandata['Roof_Azimuth'].fillna(0)\n",
    "# cleandata['House_Type'] = cleandata['House_Type'].fillna('Unknown')\n",
    "# cleandata['Roof_Type'] = cleandata['Roof_Type'].fillna('Unknown')\n",
    "# cleandata['Floors'] = cleandata['Floors'].fillna('Unknown')\n",
    "# cleandata['Shading'] = cleandata['Shading'].fillna('Unknown')"
   ]
  },
  {
   "cell_type": "code",
   "execution_count": 9,
   "id": "be053e66-1da9-47be-9ac8-de42629f52c2",
   "metadata": {},
   "outputs": [
    {
     "data": {
      "text/plain": [
       "Household_ID      0\n",
       "City              0\n",
       "Latitude          0\n",
       "House_Type        0\n",
       "Roof_Type         0\n",
       "Roof_Pitch        0\n",
       "Roof_Azimuth      0\n",
       "Floors            0\n",
       "Financed          0\n",
       "Year              0\n",
       "Panel_Capacity    0\n",
       "Shading           0\n",
       "Generation        0\n",
       "dtype: int64"
      ]
     },
     "execution_count": 9,
     "metadata": {},
     "output_type": "execute_result"
    }
   ],
   "source": [
    "cleandata.isnull().sum().sort_values(ascending = False)"
   ]
  },
  {
   "cell_type": "code",
   "execution_count": 10,
   "id": "45d841c3-3f93-4aca-b6ec-73f60ab8ae73",
   "metadata": {},
   "outputs": [
    {
     "name": "stdout",
     "output_type": "stream",
     "text": [
      "<class 'pandas.core.frame.DataFrame'>\n",
      "Int64Index: 2065 entries, 4 to 2999\n",
      "Data columns (total 13 columns):\n",
      " #   Column          Non-Null Count  Dtype  \n",
      "---  ------          --------------  -----  \n",
      " 0   Household_ID    2065 non-null   object \n",
      " 1   City            2065 non-null   object \n",
      " 2   Latitude        2065 non-null   float64\n",
      " 3   House_Type      2065 non-null   object \n",
      " 4   Roof_Type       2065 non-null   object \n",
      " 5   Roof_Pitch      2065 non-null   float64\n",
      " 6   Roof_Azimuth    2065 non-null   float64\n",
      " 7   Floors          2065 non-null   object \n",
      " 8   Financed        2065 non-null   object \n",
      " 9   Year            2065 non-null   int64  \n",
      " 10  Panel_Capacity  2065 non-null   int64  \n",
      " 11  Shading         2065 non-null   object \n",
      " 12  Generation      2065 non-null   float64\n",
      "dtypes: float64(4), int64(2), object(7)\n",
      "memory usage: 225.9+ KB\n"
     ]
    }
   ],
   "source": [
    "cleandata.info()"
   ]
  },
  {
   "cell_type": "code",
   "execution_count": 11,
   "id": "798c1525-124c-411b-8484-e2b106746193",
   "metadata": {},
   "outputs": [
    {
     "data": {
      "text/plain": [
       "Timber Frame    1447\n",
       "Double Brick     422\n",
       "Other            189\n",
       "Weatherboard       7\n",
       "Name: House_Type, dtype: int64"
      ]
     },
     "execution_count": 11,
     "metadata": {},
     "output_type": "execute_result"
    }
   ],
   "source": [
    "cleandata['House_Type'].value_counts()"
   ]
  },
  {
   "cell_type": "code",
   "execution_count": 12,
   "id": "1f33037d-ed54-47d6-aab2-74d1c5fe4506",
   "metadata": {},
   "outputs": [
    {
     "data": {
      "text/plain": [
       "Tile         1055\n",
       "Steel         783\n",
       "Other         200\n",
       "Colorbond      27\n",
       "Name: Roof_Type, dtype: int64"
      ]
     },
     "execution_count": 12,
     "metadata": {},
     "output_type": "execute_result"
    }
   ],
   "source": [
    "cleandata['Roof_Type'].value_counts()"
   ]
  },
  {
   "cell_type": "code",
   "execution_count": 13,
   "id": "5185958c-6661-45c4-beef-c689afb981c4",
   "metadata": {},
   "outputs": [
    {
     "data": {
      "text/plain": [
       "Single    891\n",
       "Double    849\n",
       "Other     325\n",
       "Name: Floors, dtype: int64"
      ]
     },
     "execution_count": 13,
     "metadata": {},
     "output_type": "execute_result"
    }
   ],
   "source": [
    "cleandata['Floors'].value_counts()"
   ]
  },
  {
   "cell_type": "code",
   "execution_count": 14,
   "id": "68761808-8c3f-422e-9def-13a52cf9a909",
   "metadata": {},
   "outputs": [
    {
     "data": {
      "text/plain": [
       "Yes    1410\n",
       "No      655\n",
       "Name: Financed, dtype: int64"
      ]
     },
     "execution_count": 14,
     "metadata": {},
     "output_type": "execute_result"
    }
   ],
   "source": [
    "cleandata['Financed'].value_counts()"
   ]
  },
  {
   "cell_type": "code",
   "execution_count": 15,
   "id": "b4797473-aeff-494e-9928-a7ca9146a257",
   "metadata": {},
   "outputs": [
    {
     "data": {
      "text/plain": [
       "None           1577\n",
       "Partial         401\n",
       "Significant      87\n",
       "Name: Shading, dtype: int64"
      ]
     },
     "execution_count": 15,
     "metadata": {},
     "output_type": "execute_result"
    }
   ],
   "source": [
    "cleandata['Shading'].value_counts()"
   ]
  },
  {
   "cell_type": "code",
   "execution_count": 16,
   "id": "f79549cf-7041-4556-966b-17252c18499d",
   "metadata": {},
   "outputs": [
    {
     "data": {
      "text/plain": [
       "Sydney       691\n",
       "Melbourne    688\n",
       "Brisbane     686\n",
       "Name: City, dtype: int64"
      ]
     },
     "execution_count": 16,
     "metadata": {},
     "output_type": "execute_result"
    }
   ],
   "source": [
    "cleandata['City'].value_counts()"
   ]
  },
  {
   "cell_type": "code",
   "execution_count": 17,
   "id": "b0bcb01d-1cad-4775-850b-6b820c79c946",
   "metadata": {},
   "outputs": [
    {
     "data": {
      "text/plain": [
       "Index(['Household_ID', 'City', 'Latitude', 'House_Type', 'Roof_Type',\n",
       "       'Roof_Pitch', 'Roof_Azimuth', 'Floors', 'Financed', 'Year',\n",
       "       'Panel_Capacity', 'Shading', 'Generation'],\n",
       "      dtype='object')"
      ]
     },
     "execution_count": 17,
     "metadata": {},
     "output_type": "execute_result"
    }
   ],
   "source": [
    "cleandata.columns"
   ]
  },
  {
   "cell_type": "code",
   "execution_count": 18,
   "id": "1825d5de-af8e-40df-9ef8-fcfc70b7772e",
   "metadata": {},
   "outputs": [
    {
     "data": {
      "text/html": [
       "<div>\n",
       "<style scoped>\n",
       "    .dataframe tbody tr th:only-of-type {\n",
       "        vertical-align: middle;\n",
       "    }\n",
       "\n",
       "    .dataframe tbody tr th {\n",
       "        vertical-align: top;\n",
       "    }\n",
       "\n",
       "    .dataframe thead th {\n",
       "        text-align: right;\n",
       "    }\n",
       "</style>\n",
       "<table border=\"1\" class=\"dataframe\">\n",
       "  <thead>\n",
       "    <tr style=\"text-align: right;\">\n",
       "      <th></th>\n",
       "      <th>Latitude</th>\n",
       "      <th>Roof_Pitch</th>\n",
       "      <th>Roof_Azimuth</th>\n",
       "      <th>Year</th>\n",
       "      <th>Panel_Capacity</th>\n",
       "      <th>Generation</th>\n",
       "    </tr>\n",
       "  </thead>\n",
       "  <tbody>\n",
       "    <tr>\n",
       "      <th>count</th>\n",
       "      <td>2065.000000</td>\n",
       "      <td>2065.000000</td>\n",
       "      <td>2065.000000</td>\n",
       "      <td>2065.000000</td>\n",
       "      <td>2065.000000</td>\n",
       "      <td>2065.000000</td>\n",
       "    </tr>\n",
       "    <tr>\n",
       "      <th>mean</th>\n",
       "      <td>-33.068183</td>\n",
       "      <td>23.674334</td>\n",
       "      <td>181.344310</td>\n",
       "      <td>2015.630508</td>\n",
       "      <td>6428.745763</td>\n",
       "      <td>9153.458138</td>\n",
       "    </tr>\n",
       "    <tr>\n",
       "      <th>std</th>\n",
       "      <td>4.365406</td>\n",
       "      <td>7.514996</td>\n",
       "      <td>122.504481</td>\n",
       "      <td>3.903206</td>\n",
       "      <td>983.552938</td>\n",
       "      <td>12763.254754</td>\n",
       "    </tr>\n",
       "    <tr>\n",
       "      <th>min</th>\n",
       "      <td>-38.728617</td>\n",
       "      <td>5.000000</td>\n",
       "      <td>0.000000</td>\n",
       "      <td>2003.000000</td>\n",
       "      <td>2940.000000</td>\n",
       "      <td>-243623.120000</td>\n",
       "    </tr>\n",
       "    <tr>\n",
       "      <th>25%</th>\n",
       "      <td>-37.826836</td>\n",
       "      <td>20.000000</td>\n",
       "      <td>66.000000</td>\n",
       "      <td>2012.000000</td>\n",
       "      <td>5880.000000</td>\n",
       "      <td>8197.087000</td>\n",
       "    </tr>\n",
       "    <tr>\n",
       "      <th>50%</th>\n",
       "      <td>-33.814686</td>\n",
       "      <td>25.000000</td>\n",
       "      <td>178.000000</td>\n",
       "      <td>2016.000000</td>\n",
       "      <td>6300.000000</td>\n",
       "      <td>9978.445000</td>\n",
       "    </tr>\n",
       "    <tr>\n",
       "      <th>75%</th>\n",
       "      <td>-27.546973</td>\n",
       "      <td>30.000000</td>\n",
       "      <td>302.000000</td>\n",
       "      <td>2019.000000</td>\n",
       "      <td>7140.000000</td>\n",
       "      <td>11635.603000</td>\n",
       "    </tr>\n",
       "    <tr>\n",
       "      <th>max</th>\n",
       "      <td>-26.509521</td>\n",
       "      <td>35.000000</td>\n",
       "      <td>360.000000</td>\n",
       "      <td>2022.000000</td>\n",
       "      <td>9660.000000</td>\n",
       "      <td>18868.140000</td>\n",
       "    </tr>\n",
       "  </tbody>\n",
       "</table>\n",
       "</div>"
      ],
      "text/plain": [
       "          Latitude   Roof_Pitch  Roof_Azimuth         Year  Panel_Capacity  \\\n",
       "count  2065.000000  2065.000000   2065.000000  2065.000000     2065.000000   \n",
       "mean    -33.068183    23.674334    181.344310  2015.630508     6428.745763   \n",
       "std       4.365406     7.514996    122.504481     3.903206      983.552938   \n",
       "min     -38.728617     5.000000      0.000000  2003.000000     2940.000000   \n",
       "25%     -37.826836    20.000000     66.000000  2012.000000     5880.000000   \n",
       "50%     -33.814686    25.000000    178.000000  2016.000000     6300.000000   \n",
       "75%     -27.546973    30.000000    302.000000  2019.000000     7140.000000   \n",
       "max     -26.509521    35.000000    360.000000  2022.000000     9660.000000   \n",
       "\n",
       "          Generation  \n",
       "count    2065.000000  \n",
       "mean     9153.458138  \n",
       "std     12763.254754  \n",
       "min   -243623.120000  \n",
       "25%      8197.087000  \n",
       "50%      9978.445000  \n",
       "75%     11635.603000  \n",
       "max     18868.140000  "
      ]
     },
     "execution_count": 18,
     "metadata": {},
     "output_type": "execute_result"
    }
   ],
   "source": [
    "cleandata.describe()"
   ]
  },
  {
   "cell_type": "code",
   "execution_count": 19,
   "id": "a8484b10-7c12-4a6a-82ef-7c24838d0c4c",
   "metadata": {},
   "outputs": [
    {
     "name": "stdout",
     "output_type": "stream",
     "text": [
      "CPU times: user 6.86 ms, sys: 1.52 ms, total: 8.38 ms\n",
      "Wall time: 7.49 ms\n"
     ]
    }
   ],
   "source": [
    "%%time\n",
    "\n",
    "city_dummies = pd.get_dummies(cleandata['City'], prefix = 'City')\n",
    "house_dummies = pd.get_dummies(cleandata['House_Type'], prefix = 'House_Type')\n",
    "roof_dummies = pd.get_dummies(cleandata['Roof_Type'], prefix = 'Roof_Type')\n",
    "floors_dummies = pd.get_dummies(cleandata['Floors'], prefix = 'Floors')\n",
    "# financed_dummies = pd.get_dummies(cleandata['Financed'], prefix = 'Financed')\n",
    "shading_dummies = pd.get_dummies(cleandata['Shading'], prefix = 'Shading')\n",
    "\n",
    "cleandata_processed = pd.concat([cleandata, city_dummies, house_dummies, roof_dummies, floors_dummies, \n",
    "                       shading_dummies], axis=1)\n",
    "\n",
    "cleandata_processed['Financed'].replace({'Yes': 1, 'No': 0}, inplace = True)"
   ]
  },
  {
   "cell_type": "code",
   "execution_count": 20,
   "id": "fbab28fd-e5af-4f7d-853d-b0722b9b14cf",
   "metadata": {},
   "outputs": [
    {
     "data": {
      "text/html": [
       "<div>\n",
       "<style scoped>\n",
       "    .dataframe tbody tr th:only-of-type {\n",
       "        vertical-align: middle;\n",
       "    }\n",
       "\n",
       "    .dataframe tbody tr th {\n",
       "        vertical-align: top;\n",
       "    }\n",
       "\n",
       "    .dataframe thead th {\n",
       "        text-align: right;\n",
       "    }\n",
       "</style>\n",
       "<table border=\"1\" class=\"dataframe\">\n",
       "  <thead>\n",
       "    <tr style=\"text-align: right;\">\n",
       "      <th></th>\n",
       "      <th>Household_ID</th>\n",
       "      <th>City</th>\n",
       "      <th>Latitude</th>\n",
       "      <th>House_Type</th>\n",
       "      <th>Roof_Type</th>\n",
       "      <th>Roof_Pitch</th>\n",
       "      <th>Roof_Azimuth</th>\n",
       "      <th>Floors</th>\n",
       "      <th>Financed</th>\n",
       "      <th>Year</th>\n",
       "      <th>Panel_Capacity</th>\n",
       "      <th>Shading</th>\n",
       "      <th>Generation</th>\n",
       "      <th>City_Brisbane</th>\n",
       "      <th>City_Melbourne</th>\n",
       "      <th>City_Sydney</th>\n",
       "      <th>House_Type_Double Brick</th>\n",
       "      <th>House_Type_Other</th>\n",
       "      <th>House_Type_Timber Frame</th>\n",
       "      <th>House_Type_Weatherboard</th>\n",
       "      <th>Roof_Type_Colorbond</th>\n",
       "      <th>Roof_Type_Other</th>\n",
       "      <th>Roof_Type_Steel</th>\n",
       "      <th>Roof_Type_Tile</th>\n",
       "      <th>Floors_Double</th>\n",
       "      <th>Floors_Other</th>\n",
       "      <th>Floors_Single</th>\n",
       "      <th>Shading_None</th>\n",
       "      <th>Shading_Partial</th>\n",
       "      <th>Shading_Significant</th>\n",
       "    </tr>\n",
       "  </thead>\n",
       "  <tbody>\n",
       "    <tr>\n",
       "      <th>4</th>\n",
       "      <td>7F266FCAD1</td>\n",
       "      <td>Brisbane</td>\n",
       "      <td>-27.432734</td>\n",
       "      <td>Other</td>\n",
       "      <td>Steel</td>\n",
       "      <td>10.0</td>\n",
       "      <td>39.0</td>\n",
       "      <td>Double</td>\n",
       "      <td>1</td>\n",
       "      <td>2012</td>\n",
       "      <td>5880</td>\n",
       "      <td>None</td>\n",
       "      <td>10987.674</td>\n",
       "      <td>1</td>\n",
       "      <td>0</td>\n",
       "      <td>0</td>\n",
       "      <td>0</td>\n",
       "      <td>1</td>\n",
       "      <td>0</td>\n",
       "      <td>0</td>\n",
       "      <td>0</td>\n",
       "      <td>0</td>\n",
       "      <td>1</td>\n",
       "      <td>0</td>\n",
       "      <td>1</td>\n",
       "      <td>0</td>\n",
       "      <td>0</td>\n",
       "      <td>1</td>\n",
       "      <td>0</td>\n",
       "      <td>0</td>\n",
       "    </tr>\n",
       "    <tr>\n",
       "      <th>5</th>\n",
       "      <td>F9E101CA63</td>\n",
       "      <td>Brisbane</td>\n",
       "      <td>-27.677593</td>\n",
       "      <td>Timber Frame</td>\n",
       "      <td>Tile</td>\n",
       "      <td>12.5</td>\n",
       "      <td>158.0</td>\n",
       "      <td>Single</td>\n",
       "      <td>1</td>\n",
       "      <td>2020</td>\n",
       "      <td>7980</td>\n",
       "      <td>None</td>\n",
       "      <td>14452.109</td>\n",
       "      <td>1</td>\n",
       "      <td>0</td>\n",
       "      <td>0</td>\n",
       "      <td>0</td>\n",
       "      <td>0</td>\n",
       "      <td>1</td>\n",
       "      <td>0</td>\n",
       "      <td>0</td>\n",
       "      <td>0</td>\n",
       "      <td>0</td>\n",
       "      <td>1</td>\n",
       "      <td>0</td>\n",
       "      <td>0</td>\n",
       "      <td>1</td>\n",
       "      <td>1</td>\n",
       "      <td>0</td>\n",
       "      <td>0</td>\n",
       "    </tr>\n",
       "    <tr>\n",
       "      <th>6</th>\n",
       "      <td>DAF9491C79</td>\n",
       "      <td>Brisbane</td>\n",
       "      <td>-27.236922</td>\n",
       "      <td>Timber Frame</td>\n",
       "      <td>Tile</td>\n",
       "      <td>30.0</td>\n",
       "      <td>183.0</td>\n",
       "      <td>Other</td>\n",
       "      <td>0</td>\n",
       "      <td>2013</td>\n",
       "      <td>6300</td>\n",
       "      <td>Partial</td>\n",
       "      <td>6999.213</td>\n",
       "      <td>1</td>\n",
       "      <td>0</td>\n",
       "      <td>0</td>\n",
       "      <td>0</td>\n",
       "      <td>0</td>\n",
       "      <td>1</td>\n",
       "      <td>0</td>\n",
       "      <td>0</td>\n",
       "      <td>0</td>\n",
       "      <td>0</td>\n",
       "      <td>1</td>\n",
       "      <td>0</td>\n",
       "      <td>1</td>\n",
       "      <td>0</td>\n",
       "      <td>0</td>\n",
       "      <td>1</td>\n",
       "      <td>0</td>\n",
       "    </tr>\n",
       "    <tr>\n",
       "      <th>8</th>\n",
       "      <td>1859089367</td>\n",
       "      <td>Brisbane</td>\n",
       "      <td>-27.637416</td>\n",
       "      <td>Timber Frame</td>\n",
       "      <td>Steel</td>\n",
       "      <td>10.0</td>\n",
       "      <td>359.0</td>\n",
       "      <td>Other</td>\n",
       "      <td>1</td>\n",
       "      <td>2021</td>\n",
       "      <td>6300</td>\n",
       "      <td>None</td>\n",
       "      <td>12963.873</td>\n",
       "      <td>1</td>\n",
       "      <td>0</td>\n",
       "      <td>0</td>\n",
       "      <td>0</td>\n",
       "      <td>0</td>\n",
       "      <td>1</td>\n",
       "      <td>0</td>\n",
       "      <td>0</td>\n",
       "      <td>0</td>\n",
       "      <td>1</td>\n",
       "      <td>0</td>\n",
       "      <td>0</td>\n",
       "      <td>1</td>\n",
       "      <td>0</td>\n",
       "      <td>1</td>\n",
       "      <td>0</td>\n",
       "      <td>0</td>\n",
       "    </tr>\n",
       "    <tr>\n",
       "      <th>10</th>\n",
       "      <td>6341B22A88</td>\n",
       "      <td>Brisbane</td>\n",
       "      <td>-27.765785</td>\n",
       "      <td>Timber Frame</td>\n",
       "      <td>Tile</td>\n",
       "      <td>20.0</td>\n",
       "      <td>290.0</td>\n",
       "      <td>Single</td>\n",
       "      <td>1</td>\n",
       "      <td>2016</td>\n",
       "      <td>6720</td>\n",
       "      <td>None</td>\n",
       "      <td>12568.536</td>\n",
       "      <td>1</td>\n",
       "      <td>0</td>\n",
       "      <td>0</td>\n",
       "      <td>0</td>\n",
       "      <td>0</td>\n",
       "      <td>1</td>\n",
       "      <td>0</td>\n",
       "      <td>0</td>\n",
       "      <td>0</td>\n",
       "      <td>0</td>\n",
       "      <td>1</td>\n",
       "      <td>0</td>\n",
       "      <td>0</td>\n",
       "      <td>1</td>\n",
       "      <td>1</td>\n",
       "      <td>0</td>\n",
       "      <td>0</td>\n",
       "    </tr>\n",
       "  </tbody>\n",
       "</table>\n",
       "</div>"
      ],
      "text/plain": [
       "   Household_ID      City   Latitude    House_Type Roof_Type  Roof_Pitch  \\\n",
       "4    7F266FCAD1  Brisbane -27.432734         Other     Steel        10.0   \n",
       "5    F9E101CA63  Brisbane -27.677593  Timber Frame      Tile        12.5   \n",
       "6    DAF9491C79  Brisbane -27.236922  Timber Frame      Tile        30.0   \n",
       "8    1859089367  Brisbane -27.637416  Timber Frame     Steel        10.0   \n",
       "10   6341B22A88  Brisbane -27.765785  Timber Frame      Tile        20.0   \n",
       "\n",
       "    Roof_Azimuth  Floors  Financed  Year  Panel_Capacity  Shading  Generation  \\\n",
       "4           39.0  Double         1  2012            5880     None   10987.674   \n",
       "5          158.0  Single         1  2020            7980     None   14452.109   \n",
       "6          183.0   Other         0  2013            6300  Partial    6999.213   \n",
       "8          359.0   Other         1  2021            6300     None   12963.873   \n",
       "10         290.0  Single         1  2016            6720     None   12568.536   \n",
       "\n",
       "    City_Brisbane  City_Melbourne  City_Sydney  House_Type_Double Brick  \\\n",
       "4               1               0            0                        0   \n",
       "5               1               0            0                        0   \n",
       "6               1               0            0                        0   \n",
       "8               1               0            0                        0   \n",
       "10              1               0            0                        0   \n",
       "\n",
       "    House_Type_Other  House_Type_Timber Frame  House_Type_Weatherboard  \\\n",
       "4                  1                        0                        0   \n",
       "5                  0                        1                        0   \n",
       "6                  0                        1                        0   \n",
       "8                  0                        1                        0   \n",
       "10                 0                        1                        0   \n",
       "\n",
       "    Roof_Type_Colorbond  Roof_Type_Other  Roof_Type_Steel  Roof_Type_Tile  \\\n",
       "4                     0                0                1               0   \n",
       "5                     0                0                0               1   \n",
       "6                     0                0                0               1   \n",
       "8                     0                0                1               0   \n",
       "10                    0                0                0               1   \n",
       "\n",
       "    Floors_Double  Floors_Other  Floors_Single  Shading_None  Shading_Partial  \\\n",
       "4               1             0              0             1                0   \n",
       "5               0             0              1             1                0   \n",
       "6               0             1              0             0                1   \n",
       "8               0             1              0             1                0   \n",
       "10              0             0              1             1                0   \n",
       "\n",
       "    Shading_Significant  \n",
       "4                     0  \n",
       "5                     0  \n",
       "6                     0  \n",
       "8                     0  \n",
       "10                    0  "
      ]
     },
     "execution_count": 20,
     "metadata": {},
     "output_type": "execute_result"
    }
   ],
   "source": [
    "cleandata_processed.head()"
   ]
  },
  {
   "cell_type": "code",
   "execution_count": 21,
   "id": "320262de-cdca-4102-ba3a-08496c01b556",
   "metadata": {},
   "outputs": [
    {
     "data": {
      "text/plain": [
       "Index(['Household_ID', 'City', 'Latitude', 'House_Type', 'Roof_Type',\n",
       "       'Roof_Pitch', 'Roof_Azimuth', 'Floors', 'Financed', 'Year',\n",
       "       'Panel_Capacity', 'Shading', 'Generation', 'City_Brisbane',\n",
       "       'City_Melbourne', 'City_Sydney', 'House_Type_Double Brick',\n",
       "       'House_Type_Other', 'House_Type_Timber Frame',\n",
       "       'House_Type_Weatherboard', 'Roof_Type_Colorbond', 'Roof_Type_Other',\n",
       "       'Roof_Type_Steel', 'Roof_Type_Tile', 'Floors_Double', 'Floors_Other',\n",
       "       'Floors_Single', 'Shading_None', 'Shading_Partial',\n",
       "       'Shading_Significant'],\n",
       "      dtype='object')"
      ]
     },
     "execution_count": 21,
     "metadata": {},
     "output_type": "execute_result"
    }
   ],
   "source": [
    "cleandata_processed.columns"
   ]
  },
  {
   "cell_type": "code",
   "execution_count": 22,
   "id": "f8ee97a7-28e8-457e-8f1f-20b33e2e42e7",
   "metadata": {},
   "outputs": [],
   "source": [
    "response_y = 'Generation'"
   ]
  },
  {
   "cell_type": "code",
   "execution_count": 23,
   "id": "942dbfca-b159-414e-8570-0baa316ab691",
   "metadata": {},
   "outputs": [],
   "source": [
    "from sklearn.model_selection import train_test_split"
   ]
  },
  {
   "cell_type": "code",
   "execution_count": 24,
   "id": "7c88d256-ce11-4a8a-bb65-bba16b9bbf9c",
   "metadata": {},
   "outputs": [],
   "source": [
    "# in_sample, out_of_sample = train_test_split(np.array(cleandata_processed.index), test_size = 0.8,\n",
    "#                                        random_state = 0, stratify = cleandata_processed[response_y])\n",
    "\n",
    "# train_indices, test_indices = train_test_split(cleandata_processed.index, test_size = 0.2, \n",
    "#                                                random_state = 42)\n",
    "# train = cleandata_processed.loc[train_indices].copy()\n",
    "# test = cleandata_processed.loc[test_indices].copy()"
   ]
  },
  {
   "cell_type": "code",
   "execution_count": 25,
   "id": "f10a2c9e-7bbb-4af1-b6c5-d16a4fa3b5fd",
   "metadata": {},
   "outputs": [],
   "source": [
    "train = cleandata_processed.loc[cleandata_processed['Year']<2021]\n",
    "test = cleandata_processed.loc[cleandata_processed['Year']>=2021]"
   ]
  },
  {
   "cell_type": "code",
   "execution_count": 26,
   "id": "54c4ebd4-d9d3-4c8d-a72e-77b23cb225e2",
   "metadata": {},
   "outputs": [
    {
     "data": {
      "text/plain": [
       "1821"
      ]
     },
     "execution_count": 26,
     "metadata": {},
     "output_type": "execute_result"
    }
   ],
   "source": [
    "len(train)"
   ]
  },
  {
   "cell_type": "code",
   "execution_count": 27,
   "id": "8220c650-cb95-43ee-bfba-b07ce4169192",
   "metadata": {},
   "outputs": [
    {
     "data": {
      "text/plain": [
       "244"
      ]
     },
     "execution_count": 27,
     "metadata": {},
     "output_type": "execute_result"
    }
   ],
   "source": [
    "len(test)"
   ]
  },
  {
   "cell_type": "code",
   "execution_count": 28,
   "id": "cece4cbd-fd30-48c1-9714-2e65a511ba28",
   "metadata": {},
   "outputs": [],
   "source": [
    "# predictors = ['Latitude', 'Roof_Pitch', 'Roof_Azimuth', 'Financed', 'Panel_Capacity', 'Year',\n",
    "#               'House_Type_Double Brick', 'House_Type_Other', 'House_Type_Timber Frame', \n",
    "#               'House_Type_Unknown', 'House_Type_Weatherboard', \n",
    "#               'Roof_Type_Colorbond', 'Roof_Type_Other', 'Roof_Type_Steel', 'Roof_Type_Tile', \n",
    "#               'Roof_Type_Unknown', \n",
    "#               'Floors_Double', 'Floors_Other', 'Floors_Single', 'Floors_Unknown', \n",
    "#               'Shading_None', 'Shading_Partial', 'Shading_Significant', 'Shading_Unknown', \n",
    "#               'City_Brisbane', 'City_Melbourne', 'City_Sydney']"
   ]
  },
  {
   "cell_type": "code",
   "execution_count": 29,
   "id": "ac631936-8f41-4d11-b883-65aef272826c",
   "metadata": {},
   "outputs": [],
   "source": [
    "predictors = ['Latitude', 'Roof_Pitch', 'Roof_Azimuth', 'Financed', 'Panel_Capacity', 'Year', \n",
    "              'House_Type_Double Brick', 'House_Type_Other', 'House_Type_Timber Frame', \n",
    "              'House_Type_Weatherboard', \n",
    "              'Roof_Type_Colorbond', 'Roof_Type_Other', 'Roof_Type_Steel', 'Roof_Type_Tile', \n",
    "              'Floors_Double', 'Floors_Other', 'Floors_Single', \n",
    "              'Shading_None', 'Shading_Partial', 'Shading_Significant', \n",
    "              'City_Brisbane', 'City_Melbourne', 'City_Sydney']"
   ]
  },
  {
   "cell_type": "code",
   "execution_count": 30,
   "id": "962e633c-1f12-4c3d-a165-d6dd7e8eb1b5",
   "metadata": {},
   "outputs": [
    {
     "data": {
      "text/plain": [
       "23"
      ]
     },
     "execution_count": 30,
     "metadata": {},
     "output_type": "execute_result"
    }
   ],
   "source": [
    "len(predictors)"
   ]
  },
  {
   "cell_type": "code",
   "execution_count": 31,
   "id": "c4b23e01-527c-4071-8467-977f9ba51631",
   "metadata": {},
   "outputs": [],
   "source": [
    "X_train = train[predictors].to_numpy()\n",
    "X_test = test[predictors].to_numpy()\n",
    "\n",
    "y_train = train[response_y].to_numpy()\n",
    "y_test = test[response_y].to_numpy()"
   ]
  },
  {
   "cell_type": "code",
   "execution_count": 32,
   "id": "d03a069f-78df-4925-b035-3a57c13f2c42",
   "metadata": {},
   "outputs": [],
   "source": [
    "X = cleandata_processed[predictors].to_numpy()\n",
    "y = cleandata_processed[response_y].to_numpy()"
   ]
  },
  {
   "cell_type": "markdown",
   "id": "b5aac36d-4107-4f36-a036-2644b1f88aeb",
   "metadata": {},
   "source": [
    "### Model"
   ]
  },
  {
   "cell_type": "code",
   "execution_count": 33,
   "id": "b9ff875b-4207-4feb-89d7-33d00a697136",
   "metadata": {},
   "outputs": [],
   "source": [
    "from sklearn.metrics import mean_squared_error, mean_absolute_error, r2_score"
   ]
  },
  {
   "cell_type": "markdown",
   "id": "30bef92f-ddd9-452d-bac6-98b2e1c7bc3b",
   "metadata": {},
   "source": [
    "#### DecisionTree"
   ]
  },
  {
   "cell_type": "code",
   "execution_count": 34,
   "id": "fc57a8f0-cb95-45b6-b200-52bbb205723a",
   "metadata": {},
   "outputs": [
    {
     "name": "stdout",
     "output_type": "stream",
     "text": [
      "The mean square error of the training set (MSE): 0.0\n",
      "The mean square error of the test set (MSE): 1318086044.871712\n",
      "The root mean square error of the training set (RMSE): 0.0\n",
      "The root mean square error of the test set (RMSE): 36305.45475368284\n",
      "The mean absolute error of the training set (MAE): 0.0\n",
      "The mean absolute error of the test set (MAE): 7385.537254098362\n",
      "r2_score: -0.0164690561948988\n",
      "CPU times: user 40.4 ms, sys: 10.1 ms, total: 50.5 ms\n",
      "Wall time: 68.2 ms\n"
     ]
    }
   ],
   "source": [
    "%%time\n",
    "\n",
    "from sklearn.tree import DecisionTreeRegressor\n",
    "\n",
    "DecisionTree = DecisionTreeRegressor()\n",
    "\n",
    "DecisionTree.fit(X_train, y_train)\n",
    "\n",
    "train_predictions = DecisionTree.predict(X_train)\n",
    "test_predictions = DecisionTree.predict(X_test)\n",
    "\n",
    "train_mse = mean_squared_error(y_train, train_predictions)\n",
    "test_mse = mean_squared_error(y_test, test_predictions)\n",
    "train_rmse = np.sqrt(mean_squared_error(y_train, train_predictions))\n",
    "test_rmse = np.sqrt(mean_squared_error(y_test, test_predictions))\n",
    "train_mae = mean_absolute_error(y_train, train_predictions)\n",
    "test_mae = mean_absolute_error(y_test, test_predictions)\n",
    "DecisionTree_r2 = r2_score(y_test,test_predictions)\n",
    "\n",
    "print(\"The mean square error of the training set (MSE):\", train_mse)\n",
    "print(\"The mean square error of the test set (MSE):\", test_mse)\n",
    "print(\"The root mean square error of the training set (RMSE):\", train_rmse)\n",
    "print(\"The root mean square error of the test set (RMSE):\", test_rmse)\n",
    "print(\"The mean absolute error of the training set (MAE):\", train_mae)\n",
    "print(\"The mean absolute error of the test set (MAE):\", test_mae)\n",
    "print(\"r2_score:\", DecisionTree_r2)"
   ]
  },
  {
   "cell_type": "markdown",
   "id": "8744b851-f0c3-4b08-8d51-c8b843d97909",
   "metadata": {},
   "source": [
    "##### Fine Tuning"
   ]
  },
  {
   "cell_type": "code",
   "execution_count": 35,
   "id": "d3550cc5-20b0-4046-b7b2-1ca5a8303107",
   "metadata": {},
   "outputs": [
    {
     "data": {
      "image/png": "[encoded data removed]",
      "text/plain": [
       "<Figure size 640x480 with 1 Axes>"
      ]
     },
     "metadata": {},
     "output_type": "display_data"
    }
   ],
   "source": [
    "from sklearn.model_selection import cross_val_score\n",
    "\n",
    "complexities = [1, 2, 3, 4, 5, 6, 7, 8, 9, 10, 11, 12, 13]\n",
    "# complexities = [5, 10, 15, 20, 25, 30, 35, 40, 45, 50]\n",
    "models = [DecisionTreeRegressor(max_depth=complexity) for complexity in complexities]\n",
    "\n",
    "mean_scores = []\n",
    "std_scores = []\n",
    "for model in models:\n",
    "    scores = cross_val_score(model, X_train, y_train, cv=5, scoring='neg_mean_squared_error')\n",
    "    mean_scores.append(-np.mean(scores))\n",
    "    std_scores.append(np.std(scores))\n",
    "\n",
    "plt.errorbar(complexities, mean_scores, yerr=std_scores, fmt='-o')\n",
    "plt.xlabel('Model Complexity')\n",
    "plt.ylabel('Mean Squared Error')\n",
    "plt.title('Model Selection Curve of Decision Tree Model')\n",
    "plt.tight_layout()\n",
    "plt.savefig(\"Model Selection Curve of Decision Tree Model\")\n",
    "plt.show()"
   ]
  },
  {
   "cell_type": "code",
   "execution_count": 36,
   "id": "b51b68d7-28cd-4f74-bf9b-0f8763758412",
   "metadata": {},
   "outputs": [
    {
     "name": "stdout",
     "output_type": "stream",
     "text": [
      "The mean square error of the training set (MSE): 834804.2246687675\n",
      "The mean square error of the test set (MSE): 1316586650.862702\n",
      "The root mean square error of the training set (RMSE): 913.6762143499017\n",
      "The root mean square error of the test set (RMSE): 36284.79917076436\n",
      "The mean absolute error of the training set (MAE): 717.5668984469639\n",
      "The mean absolute error of the test set (MAE): 7804.655833429056\n",
      "r2_score: -0.015312767787831305\n",
      "CPU times: user 5.98 ms, sys: 848 µs, total: 6.83 ms\n",
      "Wall time: 5.76 ms\n"
     ]
    }
   ],
   "source": [
    "%%time\n",
    "\n",
    "from sklearn.tree import DecisionTreeRegressor\n",
    "\n",
    "DecisionTree = DecisionTreeRegressor(max_depth=6)\n",
    "\n",
    "DecisionTree.fit(X_train, y_train)\n",
    "\n",
    "train_predictions = DecisionTree.predict(X_train)\n",
    "test_predictions = DecisionTree.predict(X_test)\n",
    "\n",
    "train_mse = mean_squared_error(y_train, train_predictions)\n",
    "test_mse = mean_squared_error(y_test, test_predictions)\n",
    "train_rmse = np.sqrt(mean_squared_error(y_train, train_predictions))\n",
    "test_rmse = np.sqrt(mean_squared_error(y_test, test_predictions))\n",
    "train_mae = mean_absolute_error(y_train, train_predictions)\n",
    "test_mae = mean_absolute_error(y_test, test_predictions)\n",
    "DecisionTree_r2 = r2_score(y_test,test_predictions)\n",
    "\n",
    "print(\"The mean square error of the training set (MSE):\", train_mse)\n",
    "print(\"The mean square error of the test set (MSE):\", test_mse)\n",
    "print(\"The root mean square error of the training set (RMSE):\", train_rmse)\n",
    "print(\"The root mean square error of the test set (RMSE):\", test_rmse)\n",
    "print(\"The mean absolute error of the training set (MAE):\", train_mae)\n",
    "print(\"The mean absolute error of the test set (MAE):\", test_mae)\n",
    "print(\"r2_score:\", DecisionTree_r2)"
   ]
  },
  {
   "cell_type": "code",
   "execution_count": 37,
   "id": "a9bba433-7569-4a6a-b27c-43e8a0720880",
   "metadata": {},
   "outputs": [],
   "source": [
    "feature_importance = pd.Series(DecisionTree.feature_importances_, index = predictors).sort_values()"
   ]
  },
  {
   "cell_type": "code",
   "execution_count": 38,
   "id": "14461e02-d9f3-437d-a40e-f4c42851e62e",
   "metadata": {},
   "outputs": [
    {
     "data": {
      "image/png": "[encoded data removed]",
      "text/plain": [
       "<Figure size 800x500 with 1 Axes>"
      ]
     },
     "metadata": {},
     "output_type": "display_data"
    }
   ],
   "source": [
    "plt.figure(figsize = (8,5))\n",
    "plt.barh(range(8),feature_importance[-8:], tick_label = feature_importance.index[-8:], color = 'thistle', height = 0.5)\n",
    "plt.title(\"Top 8 Important Features in Decision Tree Model\",fontsize = 15)\n",
    "plt.xlabel(\"Importance\",fontsize = 15)\n",
    "plt.ylabel(\"Features\", fontsize = 15)\n",
    "plt.tight_layout()\n",
    "plt.savefig(\"Top 8 Important Features in Decision Tree Model\")"
   ]
  },
  {
   "cell_type": "markdown",
   "id": "dde247f0-e6e0-41fe-884c-14b49041675e",
   "metadata": {},
   "source": [
    "#### SVR"
   ]
  },
  {
   "cell_type": "code",
   "execution_count": 39,
   "id": "9698966b-7e4b-4bc9-8d13-d32c2c0ab10c",
   "metadata": {},
   "outputs": [
    {
     "name": "stdout",
     "output_type": "stream",
     "text": [
      "The mean square error of the training set (MSE): 6192604.086875627\n",
      "The mean square error of the test set (MSE): 1335575303.6046872\n",
      "The root mean square error of the training set (RMSE): 2488.49434133888\n",
      "The root mean square error of the test set (RMSE): 36545.5237150145\n",
      "The mean absolute error of the training set (MAE): 1995.9659936905111\n",
      "The mean absolute error of the test set (MAE): 8970.509786155353\n",
      "r2_score: -0.0299562563568474\n",
      "CPU times: user 294 ms, sys: 18.7 ms, total: 313 ms\n",
      "Wall time: 312 ms\n"
     ]
    }
   ],
   "source": [
    "%%time\n",
    "\n",
    "from sklearn.svm import SVR\n",
    "\n",
    "SVR = SVR()\n",
    "\n",
    "SVR.fit(X_train, y_train)\n",
    "\n",
    "train_predictions = SVR.predict(X_train)\n",
    "test_predictions = SVR.predict(X_test)\n",
    "\n",
    "train_mse = mean_squared_error(y_train, train_predictions)\n",
    "test_mse = mean_squared_error(y_test, test_predictions)\n",
    "train_rmse = np.sqrt(mean_squared_error(y_train, train_predictions))\n",
    "test_rmse = np.sqrt(mean_squared_error(y_test, test_predictions))\n",
    "train_mae = mean_absolute_error(y_train, train_predictions)\n",
    "test_mae = mean_absolute_error(y_test, test_predictions)\n",
    "SVR_r2 = r2_score(y_test,test_predictions)\n",
    "\n",
    "print(\"The mean square error of the training set (MSE):\", train_mse)\n",
    "print(\"The mean square error of the test set (MSE):\", test_mse)\n",
    "print(\"The root mean square error of the training set (RMSE):\", train_rmse)\n",
    "print(\"The root mean square error of the test set (RMSE):\", test_rmse)\n",
    "print(\"The mean absolute error of the training set (MAE):\", train_mae)\n",
    "print(\"The mean absolute error of the test set (MAE):\", test_mae)\n",
    "print(\"r2_score:\", SVR_r2)"
   ]
  },
  {
   "cell_type": "markdown",
   "id": "70c632ea-68e9-4d5c-a38d-2a1de413a5ed",
   "metadata": {},
   "source": [
    "#### RandomForest"
   ]
  },
  {
   "cell_type": "code",
   "execution_count": 40,
   "id": "8ea03863-4f5a-4d23-93ed-84c9cab65502",
   "metadata": {},
   "outputs": [
    {
     "name": "stdout",
     "output_type": "stream",
     "text": [
      "The mean square error of the training set (MSE): 35650.4161646671\n",
      "The mean square error of the test set (MSE): 1316274017.285808\n",
      "The root mean square error of the training set (RMSE): 188.81317794229062\n",
      "The root mean square error of the test set (RMSE): 36280.490863352556\n",
      "The mean absolute error of the training set (MAE): 136.60310998352568\n",
      "The mean absolute error of the test set (MAE): 7270.147425614756\n",
      "r2_score: -0.015071674000307844\n",
      "CPU times: user 481 ms, sys: 10.4 ms, total: 491 ms\n",
      "Wall time: 504 ms\n"
     ]
    }
   ],
   "source": [
    "%%time\n",
    "\n",
    "from sklearn.ensemble import RandomForestRegressor\n",
    "\n",
    "RandomForest = RandomForestRegressor(random_state = 123)\n",
    "\n",
    "RandomForest.fit(X_train, y_train)\n",
    "\n",
    "train_predictions = RandomForest.predict(X_train)\n",
    "test_predictions = RandomForest.predict(X_test)\n",
    "\n",
    "train_mse = mean_squared_error(y_train, train_predictions)\n",
    "test_mse = mean_squared_error(y_test, test_predictions)\n",
    "train_rmse = np.sqrt(mean_squared_error(y_train, train_predictions))\n",
    "test_rmse = np.sqrt(mean_squared_error(y_test, test_predictions))\n",
    "train_mae = mean_absolute_error(y_train, train_predictions)\n",
    "test_mae = mean_absolute_error(y_test, test_predictions)\n",
    "RandomForest_r2 = r2_score(y_test,test_predictions)\n",
    "\n",
    "print(\"The mean square error of the training set (MSE):\", train_mse)\n",
    "print(\"The mean square error of the test set (MSE):\", test_mse)\n",
    "print(\"The root mean square error of the training set (RMSE):\", train_rmse)\n",
    "print(\"The root mean square error of the test set (RMSE):\", test_rmse)\n",
    "print(\"The mean absolute error of the training set (MAE):\", train_mae)\n",
    "print(\"The mean absolute error of the test set (MAE):\", test_mae)\n",
    "print(\"r2_score:\", RandomForest_r2)"
   ]
  },
  {
   "cell_type": "markdown",
   "id": "26f26400-3e1f-4838-be7f-3fa7e888cb3e",
   "metadata": {},
   "source": [
    "##### Fine Tuning"
   ]
  },
  {
   "cell_type": "code",
   "execution_count": 41,
   "id": "f3b32e7d-e86e-49e3-8a5a-486af99cabc3",
   "metadata": {},
   "outputs": [],
   "source": [
    "from sklearn.model_selection import GridSearchCV"
   ]
  },
  {
   "cell_type": "code",
   "execution_count": 42,
   "id": "82573afc-0c84-42d4-9c84-19785e03c833",
   "metadata": {
    "tags": []
   },
   "outputs": [
    {
     "name": "stdout",
     "output_type": "stream",
     "text": [
      "CPU times: user 2.29 s, sys: 0 ns, total: 2.29 s\n",
      "Wall time: 2.29 s\n"
     ]
    },
    {
     "data": {
      "text/plain": [
       "({'n_estimators': 31}, -2516977.541060365)"
      ]
     },
     "execution_count": 42,
     "metadata": {},
     "output_type": "execute_result"
    }
   ],
   "source": [
    "%%time\n",
    "param_test1 = {'n_estimators':range(1, 100, 10)}\n",
    "\n",
    "gsearch1 = GridSearchCV(estimator = RandomForestRegressor(min_samples_split = 100,\n",
    "                                                          min_samples_leaf = 20,\n",
    "                                                          max_depth = 8,\n",
    "                                                          max_features = 'sqrt',\n",
    "                                                          random_state = 123),\n",
    "                        param_grid = param_test1, scoring = 'neg_mean_squared_error', cv = 5)\n",
    "\n",
    "gsearch1.fit(X_train, y_train)\n",
    "\n",
    "gsearch1.best_params_, gsearch1.best_score_ "
   ]
  },
  {
   "cell_type": "code",
   "execution_count": 43,
   "id": "b30eb780-a8a3-46db-aae1-00ed9151b754",
   "metadata": {},
   "outputs": [
    {
     "name": "stdout",
     "output_type": "stream",
     "text": [
      "CPU times: user 5.35 s, sys: 5.65 ms, total: 5.36 s\n",
      "Wall time: 5.36 s\n"
     ]
    },
    {
     "data": {
      "text/plain": [
       "({'max_depth': 9, 'min_samples_split': 10}, -1689363.7548252612)"
      ]
     },
     "execution_count": 43,
     "metadata": {},
     "output_type": "execute_result"
    }
   ],
   "source": [
    "%%time\n",
    "param_test2 = {'max_depth':range(3, 15, 2), 'min_samples_split':range(10,101,20)}\n",
    "\n",
    "gsearch2 = GridSearchCV(estimator = RandomForestRegressor(n_estimators = 31,\n",
    "                                                          min_samples_leaf = 10,\n",
    "                                                          max_features = 'sqrt',\n",
    "                                                          oob_score = True,\n",
    "                                                          random_state = 123),\n",
    "                        param_grid = param_test2, scoring = 'neg_mean_squared_error', cv = 5)\n",
    "\n",
    "gsearch2.fit(X_train, y_train)\n",
    "\n",
    "gsearch2.best_params_, gsearch2.best_score_ "
   ]
  },
  {
   "cell_type": "code",
   "execution_count": 44,
   "id": "02ac8398-31dc-445f-89ce-29bfb891c7bf",
   "metadata": {},
   "outputs": [
    {
     "name": "stdout",
     "output_type": "stream",
     "text": [
      "CPU times: user 4.97 s, sys: 29.3 ms, total: 5 s\n",
      "Wall time: 5 s\n"
     ]
    },
    {
     "data": {
      "text/plain": [
       "({'min_samples_leaf': 1, 'min_samples_split': 10}, -1358930.443235296)"
      ]
     },
     "execution_count": 44,
     "metadata": {},
     "output_type": "execute_result"
    }
   ],
   "source": [
    "%%time\n",
    "param_test3 = {'min_samples_split':range(10,51,10), 'min_samples_leaf':range(1,10,2)}\n",
    "\n",
    "gsearch3 = GridSearchCV(estimator = RandomForestRegressor(n_estimators = 31,\n",
    "                                                          max_depth = 9,\n",
    "                                                          max_features = 'sqrt',\n",
    "                                                          oob_score = True,\n",
    "                                                          random_state = 123),\n",
    "                        param_grid = param_test3, scoring = 'neg_mean_squared_error', cv = 5)\n",
    "\n",
    "gsearch3.fit(X_train, y_train)\n",
    "\n",
    "gsearch3.best_params_, gsearch3.best_score_ "
   ]
  },
  {
   "cell_type": "code",
   "execution_count": 45,
   "id": "0f8654dd-f90b-4d15-a462-77b75d3e8387",
   "metadata": {},
   "outputs": [
    {
     "name": "stdout",
     "output_type": "stream",
     "text": [
      "CPU times: user 9.06 s, sys: 0 ns, total: 9.06 s\n",
      "Wall time: 9.06 s\n"
     ]
    },
    {
     "data": {
      "text/plain": [
       "({'max_features': 22}, -464703.85199927987)"
      ]
     },
     "execution_count": 45,
     "metadata": {},
     "output_type": "execute_result"
    }
   ],
   "source": [
    "%%time\n",
    "param_test4 = {'max_features':range(2,50,2)}\n",
    "\n",
    "gsearch4 = GridSearchCV(estimator = RandomForestRegressor(n_estimators = 31,\n",
    "                                                          min_samples_leaf = 1,\n",
    "                                                          min_samples_split = 10,\n",
    "                                                          max_depth = 9,\n",
    "                                                          oob_score = True,\n",
    "                                                          random_state = 123),\n",
    "                        param_grid = param_test4, scoring = 'neg_mean_squared_error', cv = 5)\n",
    "\n",
    "gsearch4.fit(X_train, y_train)\n",
    "\n",
    "gsearch4.best_params_, gsearch4.best_score_ "
   ]
  },
  {
   "cell_type": "code",
   "execution_count": 46,
   "id": "baf92fde-f6ac-4afd-95ff-d7079f81df9b",
   "metadata": {},
   "outputs": [
    {
     "name": "stdout",
     "output_type": "stream",
     "text": [
      "The mean square error of the training set (MSE): 123119.04203655584\n",
      "The mean square error of the test set (MSE): 1316158696.2604744\n",
      "The root mean square error of the training set (RMSE): 350.8832313413621\n",
      "The root mean square error of the test set (RMSE): 36278.90153051046\n",
      "The mean absolute error of the training set (MAE): 261.32479280091286\n",
      "The mean absolute error of the test set (MAE): 7332.651669092992\n",
      "r2_score: -0.01498274182912196\n",
      "CPU times: user 112 ms, sys: 2.21 ms, total: 115 ms\n",
      "Wall time: 114 ms\n"
     ]
    }
   ],
   "source": [
    "%%time\n",
    "\n",
    "from sklearn.ensemble import RandomForestRegressor\n",
    "\n",
    "RandomForest = RandomForestRegressor(n_estimators = 31, \n",
    "                                     min_samples_leaf = 1, \n",
    "                                     min_samples_split = 10,\n",
    "                                     max_depth = 11,\n",
    "                                     max_features = 22,\n",
    "                                     oob_score = True,\n",
    "                                     random_state = 123)\n",
    "\n",
    "RandomForest.fit(X_train, y_train)\n",
    "\n",
    "train_predictions = RandomForest.predict(X_train)\n",
    "test_predictions = RandomForest.predict(X_test)\n",
    "\n",
    "train_mse = mean_squared_error(y_train, train_predictions)\n",
    "test_mse = mean_squared_error(y_test, test_predictions)\n",
    "train_rmse = np.sqrt(mean_squared_error(y_train, train_predictions))\n",
    "test_rmse = np.sqrt(mean_squared_error(y_test, test_predictions))\n",
    "train_mae = mean_absolute_error(y_train, train_predictions)\n",
    "test_mae = mean_absolute_error(y_test, test_predictions)\n",
    "RandomForest_r2 = r2_score(y_test,test_predictions)\n",
    "\n",
    "print(\"The mean square error of the training set (MSE):\", train_mse)\n",
    "print(\"The mean square error of the test set (MSE):\", test_mse)\n",
    "print(\"The root mean square error of the training set (RMSE):\", train_rmse)\n",
    "print(\"The root mean square error of the test set (RMSE):\", test_rmse)\n",
    "print(\"The mean absolute error of the training set (MAE):\", train_mae)\n",
    "print(\"The mean absolute error of the test set (MAE):\", test_mae)\n",
    "print(\"r2_score:\", RandomForest_r2)"
   ]
  },
  {
   "cell_type": "code",
   "execution_count": 47,
   "id": "57c296f1-2425-417e-b6bd-d0a42927d695",
   "metadata": {},
   "outputs": [],
   "source": [
    "feature_importance = pd.Series(RandomForest.feature_importances_, index = predictors).sort_values()"
   ]
  },
  {
   "cell_type": "code",
   "execution_count": 48,
   "id": "031277f6-a235-4ed5-8f01-2ab4661780d9",
   "metadata": {},
   "outputs": [
    {
     "data": {
      "image/png": "[encoded data removed]",
      "text/plain": [
       "<Figure size 800x500 with 1 Axes>"
      ]
     },
     "metadata": {},
     "output_type": "display_data"
    }
   ],
   "source": [
    "plt.figure(figsize = (8,5))\n",
    "plt.barh(range(8),feature_importance[-8:], tick_label = feature_importance.index[-8:], color = 'thistle', height = 0.5)\n",
    "plt.title(\"Top 8 Important Features in Random Forest Model\",fontsize = 15)\n",
    "plt.xlabel(\"Importance\",fontsize = 15)\n",
    "plt.ylabel(\"Features\", fontsize = 15)\n",
    "plt.tight_layout()\n",
    "plt.savefig(\"Top 8 Important Features in Random Forest Model\")"
   ]
  },
  {
   "cell_type": "markdown",
   "id": "f86c32d4-45f6-4b52-ad8b-ce79b426e236",
   "metadata": {},
   "source": [
    "#### MLP"
   ]
  },
  {
   "cell_type": "code",
   "execution_count": 49,
   "id": "5d5d44f9-cabd-4763-92c3-a2339db4140e",
   "metadata": {},
   "outputs": [
    {
     "name": "stdout",
     "output_type": "stream",
     "text": [
      "The mean square error of the training set (MSE): 5941750.552881507\n",
      "The mean square error of the test set (MSE): 1314297054.8002558\n",
      "The root mean square error of the training set (RMSE): 2437.570625208941\n",
      "The root mean square error of the test set (RMSE): 36253.235094267875\n",
      "The mean absolute error of the training set (MAE): 2006.6111762681905\n",
      "The mean absolute error of the test set (MAE): 9138.995214059296\n",
      "r2_score: -0.01354709887894856\n",
      "CPU times: user 6.29 s, sys: 211 ms, total: 6.5 s\n",
      "Wall time: 2.64 s\n"
     ]
    }
   ],
   "source": [
    "%%time\n",
    "\n",
    "import torch\n",
    "import torch.nn as nn\n",
    "import torch.optim as optim\n",
    "\n",
    "X_train_tensor = torch.Tensor(X_train)\n",
    "y_train_tensor = torch.Tensor(y_train)\n",
    "X_test_tensor = torch.Tensor(X_test)\n",
    "y_test_tensor = torch.Tensor(y_test)\n",
    "X_tensor = torch.Tensor(X)\n",
    "y_tensor = torch.Tensor(y)\n",
    "\n",
    "class RegressionModel(nn.Module):\n",
    "    def __init__(self):\n",
    "        super(RegressionModel, self).__init__()\n",
    "        self.fc1 = nn.Linear(len(predictors), 64)\n",
    "        self.relu1 = nn.ReLU()\n",
    "        self.fc2 = nn.Linear(64, 64)\n",
    "        self.relu2 = nn.ReLU()\n",
    "        self.fc3 = nn.Linear(64, 1)\n",
    "\n",
    "    def forward(self, x):\n",
    "        x = self.fc1(x)\n",
    "        x = self.relu1(x)\n",
    "        x = self.fc2(x)\n",
    "        x = self.relu2(x)\n",
    "        x = self.fc3(x)\n",
    "        return x\n",
    "\n",
    "MLP = RegressionModel()\n",
    "\n",
    "criterion = nn.MSELoss()\n",
    "optimizer = optim.Adam(MLP.parameters(), lr=0.001)\n",
    "\n",
    "num_epochs = 10\n",
    "batch_size = 32\n",
    "for epoch in range(num_epochs):\n",
    "    MLP.train()\n",
    "    for i in range(0, len(X_train_tensor), batch_size):\n",
    "        batch_X = X_train_tensor[i:i+batch_size]\n",
    "        batch_y = y_train_tensor[i:i+batch_size]\n",
    "\n",
    "        optimizer.zero_grad()\n",
    "        outputs = MLP(batch_X)\n",
    "        loss = criterion(outputs, batch_y.unsqueeze(1))\n",
    "        loss.backward()\n",
    "        optimizer.step()\n",
    "\n",
    "MLP.eval()\n",
    "train_predictions = MLP(X_train_tensor).detach().numpy()\n",
    "test_predictions = MLP(X_test_tensor).detach().numpy()\n",
    "\n",
    "train_mse = mean_squared_error(y_train, train_predictions)\n",
    "test_mse = mean_squared_error(y_test, test_predictions)\n",
    "train_rmse = np.sqrt(mean_squared_error(y_train, train_predictions))\n",
    "test_rmse = np.sqrt(mean_squared_error(y_test, test_predictions))\n",
    "train_mae = mean_absolute_error(y_train, train_predictions)\n",
    "test_mae = mean_absolute_error(y_test, test_predictions)\n",
    "MLP_r2 = r2_score(y_test,test_predictions)\n",
    "\n",
    "print(\"The mean square error of the training set (MSE):\", train_mse)\n",
    "print(\"The mean square error of the test set (MSE):\", test_mse)\n",
    "print(\"The root mean square error of the training set (RMSE):\", train_rmse)\n",
    "print(\"The root mean square error of the test set (RMSE):\", test_rmse)\n",
    "print(\"The mean absolute error of the training set (MAE):\", train_mae)\n",
    "print(\"The mean absolute error of the test set (MAE):\", test_mae)\n",
    "print(\"r2_score:\", MLP_r2)"
   ]
  },
  {
   "cell_type": "markdown",
   "id": "35e88f08-e89a-4270-92c0-db05cf02ab7e",
   "metadata": {},
   "source": [
    "### Benchmark Model 1"
   ]
  },
  {
   "cell_type": "code",
   "execution_count": 50,
   "id": "c8785359-5aa5-4b3a-afe5-3204ba73d388",
   "metadata": {},
   "outputs": [
    {
     "data": {
      "text/plain": [
       "Sydney       691\n",
       "Melbourne    688\n",
       "Brisbane     686\n",
       "Name: City, dtype: int64"
      ]
     },
     "execution_count": 50,
     "metadata": {},
     "output_type": "execute_result"
    }
   ],
   "source": [
    "cleandata_processed['City'].value_counts()"
   ]
  },
  {
   "cell_type": "code",
   "execution_count": 51,
   "id": "a185e708-a1ef-4429-a29c-cd14138a52be",
   "metadata": {},
   "outputs": [],
   "source": [
    "benchmark_1 = cleandata_processed.loc[cleandata_processed['Year'].isin([2019, 2020, 2021])]"
   ]
  },
  {
   "cell_type": "code",
   "execution_count": 52,
   "id": "78df07c1-33c4-4c3b-9156-f5ec78042553",
   "metadata": {},
   "outputs": [],
   "source": [
    "b1 = benchmark_1.groupby(\"City\")[\"Generation\"].mean()"
   ]
  },
  {
   "cell_type": "code",
   "execution_count": 53,
   "id": "0c4322aa-3da0-45d6-a849-715a15556297",
   "metadata": {},
   "outputs": [],
   "source": [
    "City = ['Brisbane','Melbourne','Sydney']"
   ]
  },
  {
   "cell_type": "code",
   "execution_count": 54,
   "id": "11c46672-95c6-4acf-93cb-8672c49b6aa3",
   "metadata": {},
   "outputs": [],
   "source": [
    "train_b1 = train.copy()\n",
    "test_b1 = test.copy()\n",
    "all_b1 = cleandata_processed.copy()\n",
    "train_b1[\"Generation_predictions\"] = None\n",
    "test_b1[\"Generation_predictions\"] = None\n",
    "all_b1[\"Generation_predictions\"] = None\n",
    "for i in City:\n",
    "    train_b1.loc[train_b1['City']==i,\"Generation_predictions\"] = b1[i]\n",
    "    test_b1.loc[test_b1['City']==i,\"Generation_predictions\"] = b1[i]\n",
    "    all_b1.loc[all_b1['City']==i,\"Generation_predictions\"] = b1[i]"
   ]
  },
  {
   "cell_type": "code",
   "execution_count": 55,
   "id": "24709b6a-5b13-4166-95c3-be5843f14266",
   "metadata": {},
   "outputs": [
    {
     "name": "stdout",
     "output_type": "stream",
     "text": [
      "The mean square error of the training set (MSE): 5686774.494760039\n",
      "The mean square error of the test set (MSE): 1341067974.7770827\n",
      "The root mean square error of the training set (RMSE): 2384.695891462901\n",
      "The root mean square error of the test set (RMSE): 36620.594953892854\n",
      "The mean absolute error of the training set (MAE): 1902.993335271102\n",
      "The mean absolute error of the test set (MAE): 8883.119140822397\n",
      "r2_score: -0.03419204225589101\n"
     ]
    }
   ],
   "source": [
    "train_predictions = train_b1[\"Generation_predictions\"]\n",
    "train_predictions = np.array(train_predictions)\n",
    "test_predictions = test_b1[\"Generation_predictions\"]\n",
    "test_predictions = np.array(test_predictions)\n",
    "\n",
    "train_mse = mean_squared_error(y_train, train_predictions)\n",
    "test_mse = mean_squared_error(y_test, test_predictions)\n",
    "train_rmse = np.sqrt(mean_squared_error(y_train, train_predictions))\n",
    "test_rmse = np.sqrt(mean_squared_error(y_test, test_predictions))\n",
    "train_mae = mean_absolute_error(y_train, train_predictions)\n",
    "test_mae = mean_absolute_error(y_test, test_predictions)\n",
    "benchmark1_r2 = r2_score(y_test,test_predictions)\n",
    "\n",
    "print(\"The mean square error of the training set (MSE):\", train_mse)\n",
    "print(\"The mean square error of the test set (MSE):\", test_mse)\n",
    "print(\"The root mean square error of the training set (RMSE):\", train_rmse)\n",
    "print(\"The root mean square error of the test set (RMSE):\", test_rmse)\n",
    "print(\"The mean absolute error of the training set (MAE):\", train_mae)\n",
    "print(\"The mean absolute error of the test set (MAE):\", test_mae)\n",
    "print(\"r2_score:\", benchmark1_r2)"
   ]
  },
  {
   "cell_type": "markdown",
   "id": "8bfe4688-2d1b-41c7-8988-3cc18aab5ed3",
   "metadata": {},
   "source": [
    "### Benchmark Model 2"
   ]
  },
  {
   "cell_type": "code",
   "execution_count": 56,
   "id": "c5518fd7-b655-474e-bfe0-115486e533ca",
   "metadata": {},
   "outputs": [
    {
     "data": {
      "text/plain": [
       "6300    354\n",
       "6720    341\n",
       "5880    301\n",
       "7140    278\n",
       "5460    204\n",
       "7560    179\n",
       "5040    122\n",
       "7980    107\n",
       "4620     66\n",
       "8400     40\n",
       "4200     33\n",
       "8820     18\n",
       "3780     10\n",
       "9240      7\n",
       "3360      2\n",
       "2940      2\n",
       "9660      1\n",
       "Name: Panel_Capacity, dtype: int64"
      ]
     },
     "execution_count": 56,
     "metadata": {},
     "output_type": "execute_result"
    }
   ],
   "source": [
    "cleandata_processed['Panel_Capacity'].value_counts()"
   ]
  },
  {
   "cell_type": "code",
   "execution_count": 57,
   "id": "41a2498b-6d9e-44d9-93a6-39989a512093",
   "metadata": {},
   "outputs": [],
   "source": [
    "benchmark_2 = cleandata_processed.loc[cleandata_processed['Year'].isin([2019, 2020, 2021])]"
   ]
  },
  {
   "cell_type": "code",
   "execution_count": 58,
   "id": "10c2c48d-2ed9-4994-825a-1ca519d96c28",
   "metadata": {},
   "outputs": [],
   "source": [
    "# benchmark_2[\"Generation_predictions\"] = benchmark_2.groupby([\"City\", \"Panel_Capacity\"])[\"Generation\"].transform('mean')"
   ]
  },
  {
   "cell_type": "code",
   "execution_count": 59,
   "id": "1d0dd728-77fe-47e2-a3b0-117217ebd9e1",
   "metadata": {},
   "outputs": [],
   "source": [
    "b2 = benchmark_2.groupby([\"City\", \"Panel_Capacity\"])[\"Generation\"].mean()"
   ]
  },
  {
   "cell_type": "code",
   "execution_count": 60,
   "id": "87b2fc54-e384-4824-9632-09fa165bfa55",
   "metadata": {},
   "outputs": [],
   "source": [
    "train_predictions = benchmark_2.groupby([\"City\", \"Panel_Capacity\"])[\"Generation\"].transform('mean')\n",
    "train_predictions = np.array(train_predictions)"
   ]
  },
  {
   "cell_type": "code",
   "execution_count": 61,
   "id": "3d3a4a8d-6374-4d43-91cf-c3e4032007b4",
   "metadata": {},
   "outputs": [],
   "source": [
    "# Panel_Capacity = [6300,6720,5880,7140,5460,7560,5040,7980,4620,8400,4200,8820,3780,9240,3360,9660,2940]"
   ]
  },
  {
   "cell_type": "code",
   "execution_count": 62,
   "id": "7129431d-40ea-49a6-a4d9-3d8019f47f89",
   "metadata": {},
   "outputs": [],
   "source": [
    "train_b2 = train.copy()\n",
    "test_b2 = test.copy()\n",
    "all_b2 =cleandata_processed.copy()\n",
    "train_b2[\"Generation_predictions\"] = None\n",
    "test_b2[\"Generation_predictions\"] = None\n",
    "all_b2[\"Generation_predictions\"] = None\n",
    "\n",
    "for i in b2.loc[(\"Sydney\", )].index.get_level_values(\"Panel_Capacity\"):\n",
    "    train_b2.loc[(train_b2['City']==\"Sydney\") & (train_b2['Panel_Capacity']==i),\"Generation_predictions\"] = b2[\"Sydney\"][i]\n",
    "    test_b2.loc[(test_b2['City']==\"Sydney\") & (test_b2['Panel_Capacity']==i),\"Generation_predictions\"] = b2[\"Sydney\"][i]\n",
    "    all_b2.loc[(all_b2['City']==\"Sydney\") & (all_b2['Panel_Capacity']==i),\"Generation_predictions\"] = b2[\"Sydney\"][i]\n",
    "    \n",
    "for i in b2.loc[(\"Brisbane\", )].index.get_level_values(\"Panel_Capacity\"):\n",
    "    train_b2.loc[(train_b2['City']==\"Brisbane\") & (train_b2['Panel_Capacity']==i),\"Generation_predictions\"] = b2[\"Brisbane\"][i]\n",
    "    test_b2.loc[(test_b2['City']==\"Brisbane\") & (test_b2['Panel_Capacity']==i),\"Generation_predictions\"] = b2[\"Brisbane\"][i]\n",
    "    all_b2.loc[(all_b2['City']==\"Brisbane\") & (all_b2['Panel_Capacity']==i),\"Generation_predictions\"] = b2[\"Brisbane\"][i]\n",
    "    \n",
    "for i in b2.loc[(\"Melbourne\", )].index.get_level_values(\"Panel_Capacity\"):\n",
    "    train_b2.loc[(train_b2['City']==\"Melbourne\") & (train_b2['Panel_Capacity']==i),\"Generation_predictions\"] = b2[\"Melbourne\"][i]\n",
    "    test_b2.loc[(test_b2['City']==\"Melbourne\") & (test_b2['Panel_Capacity']==i),\"Generation_predictions\"] = b2[\"Melbourne\"][i]\n",
    "    all_b2.loc[(all_b2['City']==\"Melbourne\") & (all_b2['Panel_Capacity']==i),\"Generation_predictions\"] = b2[\"Melbourne\"][i]\n",
    "    \n",
    "    "
   ]
  },
  {
   "cell_type": "code",
   "execution_count": 63,
   "id": "9486ac67-5447-4324-b8fa-ef067e75ba78",
   "metadata": {},
   "outputs": [],
   "source": [
    "train_b2 = train_b2.dropna()\n",
    "test_b2 = test_b2.dropna()\n",
    "all_b2 = all_b2.dropna()"
   ]
  },
  {
   "cell_type": "code",
   "execution_count": 64,
   "id": "7a1de1ad-e2c2-45eb-a368-3695257aa4ec",
   "metadata": {},
   "outputs": [
    {
     "name": "stdout",
     "output_type": "stream",
     "text": [
      "The mean square error of the training set (MSE): 3683430.419783834\n",
      "The mean square error of the test set (MSE): 1331065901.1497436\n",
      "The root mean square error of the training set (RMSE): 1919.226516017282\n",
      "The root mean square error of the test set (RMSE): 36483.77586201493\n",
      "The mean absolute error of the training set (MAE): 1446.8060109351018\n",
      "The mean absolute error of the test set (MAE): 8273.159737795637\n",
      "r2_score: -0.026478738272794233\n"
     ]
    }
   ],
   "source": [
    "train_predictions = train_b2[\"Generation_predictions\"]\n",
    "train_predictions = np.array(train_predictions)\n",
    "test_predictions = test_b2[\"Generation_predictions\"]\n",
    "test_predictions = np.array(test_predictions)\n",
    "y_train_b2 = train_b2[\"Generation\"]\n",
    "y_train_b2 = np.array(y_train_b2)\n",
    "y_test_b2 = test_b2[\"Generation\"]\n",
    "y_test_b2 = np.array(y_test_b2)\n",
    "y_all_b2 = all_b2[\"Generation\"]\n",
    "y_all_b2 = np.array(y_all_b2)\n",
    "\n",
    "train_mse = mean_squared_error(y_train_b2, train_predictions)\n",
    "test_mse = mean_squared_error(y_test_b2, test_predictions)\n",
    "train_rmse = np.sqrt(mean_squared_error(y_train_b2, train_predictions))\n",
    "test_rmse = np.sqrt(mean_squared_error(y_test_b2, test_predictions))\n",
    "train_mae = mean_absolute_error(y_train_b2, train_predictions)\n",
    "test_mae = mean_absolute_error(y_test_b2, test_predictions)\n",
    "benchmark2_r2 = r2_score(y_test_b2,test_predictions)\n",
    "\n",
    "print(\"The mean square error of the training set (MSE):\", train_mse)\n",
    "print(\"The mean square error of the test set (MSE):\", test_mse)\n",
    "print(\"The root mean square error of the training set (RMSE):\", train_rmse)\n",
    "print(\"The root mean square error of the test set (RMSE):\", test_rmse)\n",
    "print(\"The mean absolute error of the training set (MAE):\", train_mae)\n",
    "print(\"The mean absolute error of the test set (MAE):\", test_mae)\n",
    "print(\"r2_score:\", benchmark2_r2)"
   ]
  },
  {
   "cell_type": "markdown",
   "id": "7cf21510-95cf-4a42-a852-cb8de9127698",
   "metadata": {},
   "source": [
    "### Comparison"
   ]
  },
  {
   "cell_type": "code",
   "execution_count": 65,
   "id": "31ee0536-e5f0-4492-ac9f-87d6272be7e6",
   "metadata": {},
   "outputs": [
    {
     "name": "stdout",
     "output_type": "stream",
     "text": [
      "CPU times: user 280 ms, sys: 0 ns, total: 280 ms\n",
      "Wall time: 206 ms\n"
     ]
    },
    {
     "data": {
      "text/html": [
       "<div>\n",
       "<style scoped>\n",
       "    .dataframe tbody tr th:only-of-type {\n",
       "        vertical-align: middle;\n",
       "    }\n",
       "\n",
       "    .dataframe tbody tr th {\n",
       "        vertical-align: top;\n",
       "    }\n",
       "\n",
       "    .dataframe thead th {\n",
       "        text-align: right;\n",
       "    }\n",
       "</style>\n",
       "<table border=\"1\" class=\"dataframe\">\n",
       "  <thead>\n",
       "    <tr style=\"text-align: right;\">\n",
       "      <th></th>\n",
       "      <th>train_MSE</th>\n",
       "      <th>test_MSE</th>\n",
       "      <th>train_RMSE</th>\n",
       "      <th>test_RMSE</th>\n",
       "      <th>train_MAE</th>\n",
       "      <th>test_MAE</th>\n",
       "    </tr>\n",
       "  </thead>\n",
       "  <tbody>\n",
       "    <tr>\n",
       "      <th>DecisionTree</th>\n",
       "      <td>834804.225</td>\n",
       "      <td>1.316587e+09</td>\n",
       "      <td>913.676</td>\n",
       "      <td>36284.799</td>\n",
       "      <td>717.567</td>\n",
       "      <td>7804.656</td>\n",
       "    </tr>\n",
       "    <tr>\n",
       "      <th>SVR</th>\n",
       "      <td>6192604.087</td>\n",
       "      <td>1.335575e+09</td>\n",
       "      <td>2488.494</td>\n",
       "      <td>36545.524</td>\n",
       "      <td>1995.966</td>\n",
       "      <td>8970.510</td>\n",
       "    </tr>\n",
       "    <tr>\n",
       "      <th>RandomForest</th>\n",
       "      <td>123119.042</td>\n",
       "      <td>1.316159e+09</td>\n",
       "      <td>350.883</td>\n",
       "      <td>36278.902</td>\n",
       "      <td>261.325</td>\n",
       "      <td>7332.652</td>\n",
       "    </tr>\n",
       "    <tr>\n",
       "      <th>MLP</th>\n",
       "      <td>5941750.553</td>\n",
       "      <td>1.314297e+09</td>\n",
       "      <td>2437.571</td>\n",
       "      <td>36253.235</td>\n",
       "      <td>2006.611</td>\n",
       "      <td>9138.995</td>\n",
       "    </tr>\n",
       "    <tr>\n",
       "      <th>BenchmarkModel1</th>\n",
       "      <td>5686774.495</td>\n",
       "      <td>1.341068e+09</td>\n",
       "      <td>2384.696</td>\n",
       "      <td>36620.595</td>\n",
       "      <td>1902.993</td>\n",
       "      <td>8883.119</td>\n",
       "    </tr>\n",
       "    <tr>\n",
       "      <th>BenchmarkModel2</th>\n",
       "      <td>3683430.420</td>\n",
       "      <td>1.331066e+09</td>\n",
       "      <td>1919.227</td>\n",
       "      <td>36483.776</td>\n",
       "      <td>1446.806</td>\n",
       "      <td>8273.160</td>\n",
       "    </tr>\n",
       "  </tbody>\n",
       "</table>\n",
       "</div>"
      ],
      "text/plain": [
       "                   train_MSE      test_MSE  train_RMSE  test_RMSE  train_MAE  \\\n",
       "DecisionTree      834804.225  1.316587e+09     913.676  36284.799    717.567   \n",
       "SVR              6192604.087  1.335575e+09    2488.494  36545.524   1995.966   \n",
       "RandomForest      123119.042  1.316159e+09     350.883  36278.902    261.325   \n",
       "MLP              5941750.553  1.314297e+09    2437.571  36253.235   2006.611   \n",
       "BenchmarkModel1  5686774.495  1.341068e+09    2384.696  36620.595   1902.993   \n",
       "BenchmarkModel2  3683430.420  1.331066e+09    1919.227  36483.776   1446.806   \n",
       "\n",
       "                 test_MAE  \n",
       "DecisionTree     7804.656  \n",
       "SVR              8970.510  \n",
       "RandomForest     7332.652  \n",
       "MLP              9138.995  \n",
       "BenchmarkModel1  8883.119  \n",
       "BenchmarkModel2  8273.160  "
      ]
     },
     "execution_count": 65,
     "metadata": {},
     "output_type": "execute_result"
    }
   ],
   "source": [
    "%%time\n",
    "\n",
    "scores = ['train_MSE','test_MSE','train_RMSE','test_RMSE','train_MAE','test_MAE']\n",
    "\n",
    "models = ['DecisionTree','SVR','RandomForest','MLP','BenchmarkModel1','BenchmarkModel2']\n",
    "\n",
    "results = pd.DataFrame(0.0, columns = scores, index = models)\n",
    "\n",
    "models_names = [DecisionTree, SVR, RandomForest,MLP,'BenchmarkModel1','BenchmarkModel2']\n",
    "\n",
    "\n",
    "for i, mname in enumerate(models_names):\n",
    "    if mname == 'BenchmarkModel1':\n",
    "        y_pred_train = train_b1[\"Generation_predictions\"]\n",
    "        y_pred_train = np.array(y_pred_train)\n",
    "        y_pred_test = test_b1[\"Generation_predictions\"]\n",
    "        y_pred_test = np.array(y_pred_test)\n",
    "        \n",
    "        results.iloc[i,0] = mean_squared_error(y_train, y_pred_train)\n",
    "        results.iloc[i,1] = mean_squared_error(y_test, y_pred_test)\n",
    "        results.iloc[i,2] = np.sqrt(mean_squared_error(y_train, y_pred_train))\n",
    "        results.iloc[i,3] = np.sqrt(mean_squared_error(y_test, y_pred_test))\n",
    "        results.iloc[i,4] = mean_absolute_error(y_train, y_pred_train)\n",
    "        results.iloc[i,5] = mean_absolute_error(y_test, y_pred_test)\n",
    "        # results.iloc[i,6] = r2_score(y_test, y_pred_test)\n",
    "    elif mname == 'BenchmarkModel2':\n",
    "        y_pred_train = train_b2[\"Generation_predictions\"]\n",
    "        y_pred_train = np.array(y_pred_train)\n",
    "        y_pred_test = test_b2[\"Generation_predictions\"]\n",
    "        y_pred_test = np.array(y_pred_test)\n",
    "        \n",
    "        results.iloc[i,0] = mean_squared_error(y_train_b2, y_pred_train)\n",
    "        results.iloc[i,1] = mean_squared_error(y_test_b2, y_pred_test)\n",
    "        results.iloc[i,2] = np.sqrt(mean_squared_error(y_train_b2, y_pred_train))\n",
    "        results.iloc[i,3] = np.sqrt(mean_squared_error(y_test_b2, y_pred_test))\n",
    "        results.iloc[i,4] = mean_absolute_error(y_train_b2, y_pred_train)\n",
    "        results.iloc[i,5] = mean_absolute_error(y_test_b2, y_pred_test)\n",
    "        # results.iloc[i,6] = r2_score(y_test_b2, y_pred_test)\n",
    "    elif mname == MLP:\n",
    "        y_pred_train = MLP(X_train_tensor).detach().numpy()\n",
    "        y_pred_test = MLP(X_test_tensor).detach().numpy()\n",
    "        \n",
    "        results.iloc[i,0] = mean_squared_error(y_train, y_pred_train)\n",
    "        results.iloc[i,1] = mean_squared_error(y_test, y_pred_test)\n",
    "        results.iloc[i,2] = np.sqrt(mean_squared_error(y_train, y_pred_train))\n",
    "        results.iloc[i,3] = np.sqrt(mean_squared_error(y_test, y_pred_test))\n",
    "        results.iloc[i,4] = mean_absolute_error(y_train, y_pred_train)\n",
    "        results.iloc[i,5] = mean_absolute_error(y_test, y_pred_test)\n",
    "        # results.iloc[i,6] = r2_score(y_test, y_pred_test)\n",
    "    else:\n",
    "        model = mname\n",
    "        y_pred_train = model.predict(X_train)\n",
    "        y_pred_test = model.predict(X_test)\n",
    "        \n",
    "        results.iloc[i,0] = mean_squared_error(y_train, y_pred_train)\n",
    "        results.iloc[i,1] = mean_squared_error(y_test, y_pred_test)\n",
    "        results.iloc[i,2] = np.sqrt(mean_squared_error(y_train, y_pred_train))\n",
    "        results.iloc[i,3] = np.sqrt(mean_squared_error(y_test, y_pred_test))\n",
    "        results.iloc[i,4] = mean_absolute_error(y_train, y_pred_train)\n",
    "        results.iloc[i,5] = mean_absolute_error(y_test, y_pred_test)\n",
    "        # results.iloc[i,6] = r2_score(y_test, y_pred_test)\n",
    "        \n",
    "\n",
    "results.round(3)"
   ]
  },
  {
   "cell_type": "code",
   "execution_count": 66,
   "id": "78a05f30-c1b6-4b45-b3ad-a78aa0b8a3ae",
   "metadata": {},
   "outputs": [
    {
     "name": "stdout",
     "output_type": "stream",
     "text": [
      "CPU times: user 1.62 s, sys: 0 ns, total: 1.62 s\n",
      "Wall time: 436 ms\n"
     ]
    },
    {
     "data": {
      "text/html": [
       "<div>\n",
       "<style scoped>\n",
       "    .dataframe tbody tr th:only-of-type {\n",
       "        vertical-align: middle;\n",
       "    }\n",
       "\n",
       "    .dataframe tbody tr th {\n",
       "        vertical-align: top;\n",
       "    }\n",
       "\n",
       "    .dataframe thead th {\n",
       "        text-align: right;\n",
       "    }\n",
       "</style>\n",
       "<table border=\"1\" class=\"dataframe\">\n",
       "  <thead>\n",
       "    <tr style=\"text-align: right;\">\n",
       "      <th></th>\n",
       "      <th>train_MSE</th>\n",
       "      <th>test_MSE</th>\n",
       "      <th>train_RMSE</th>\n",
       "      <th>test_RMSE</th>\n",
       "      <th>train_MAE</th>\n",
       "      <th>test_MAE</th>\n",
       "      <th>MSE</th>\n",
       "      <th>RMSE</th>\n",
       "      <th>MAE</th>\n",
       "    </tr>\n",
       "  </thead>\n",
       "  <tbody>\n",
       "    <tr>\n",
       "      <th>DecisionTree</th>\n",
       "      <td>834804.225</td>\n",
       "      <td>1.316587e+09</td>\n",
       "      <td>913.676</td>\n",
       "      <td>36284.799</td>\n",
       "      <td>717.567</td>\n",
       "      <td>7804.656</td>\n",
       "      <td>1.563038e+08</td>\n",
       "      <td>12502.151</td>\n",
       "      <td>1554.976</td>\n",
       "    </tr>\n",
       "    <tr>\n",
       "      <th>SVR</th>\n",
       "      <td>6192604.087</td>\n",
       "      <td>1.335575e+09</td>\n",
       "      <td>2488.494</td>\n",
       "      <td>36545.524</td>\n",
       "      <td>1995.966</td>\n",
       "      <td>8970.510</td>\n",
       "      <td>1.632722e+08</td>\n",
       "      <td>12777.801</td>\n",
       "      <td>2820.077</td>\n",
       "    </tr>\n",
       "    <tr>\n",
       "      <th>RandomForest</th>\n",
       "      <td>123119.042</td>\n",
       "      <td>1.316159e+09</td>\n",
       "      <td>350.883</td>\n",
       "      <td>36278.902</td>\n",
       "      <td>261.325</td>\n",
       "      <td>7332.652</td>\n",
       "      <td>1.556256e+08</td>\n",
       "      <td>12475.000</td>\n",
       "      <td>1096.871</td>\n",
       "    </tr>\n",
       "    <tr>\n",
       "      <th>MLP</th>\n",
       "      <td>5941750.553</td>\n",
       "      <td>1.314297e+09</td>\n",
       "      <td>2437.571</td>\n",
       "      <td>36253.235</td>\n",
       "      <td>2006.611</td>\n",
       "      <td>9138.995</td>\n",
       "      <td>1.605368e+08</td>\n",
       "      <td>12670.310</td>\n",
       "      <td>2849.372</td>\n",
       "    </tr>\n",
       "    <tr>\n",
       "      <th>BenchmarkModel1</th>\n",
       "      <td>5686774.495</td>\n",
       "      <td>1.341068e+09</td>\n",
       "      <td>2384.696</td>\n",
       "      <td>36620.595</td>\n",
       "      <td>1902.993</td>\n",
       "      <td>8883.119</td>\n",
       "      <td>1.634752e+08</td>\n",
       "      <td>12785.740</td>\n",
       "      <td>2727.764</td>\n",
       "    </tr>\n",
       "    <tr>\n",
       "      <th>BenchmarkModel2</th>\n",
       "      <td>3683430.420</td>\n",
       "      <td>1.331066e+09</td>\n",
       "      <td>1919.227</td>\n",
       "      <td>36483.776</td>\n",
       "      <td>1446.806</td>\n",
       "      <td>8273.160</td>\n",
       "      <td>1.609074e+08</td>\n",
       "      <td>12684.927</td>\n",
       "      <td>2255.364</td>\n",
       "    </tr>\n",
       "  </tbody>\n",
       "</table>\n",
       "</div>"
      ],
      "text/plain": [
       "                   train_MSE      test_MSE  train_RMSE  test_RMSE  train_MAE  \\\n",
       "DecisionTree      834804.225  1.316587e+09     913.676  36284.799    717.567   \n",
       "SVR              6192604.087  1.335575e+09    2488.494  36545.524   1995.966   \n",
       "RandomForest      123119.042  1.316159e+09     350.883  36278.902    261.325   \n",
       "MLP              5941750.553  1.314297e+09    2437.571  36253.235   2006.611   \n",
       "BenchmarkModel1  5686774.495  1.341068e+09    2384.696  36620.595   1902.993   \n",
       "BenchmarkModel2  3683430.420  1.331066e+09    1919.227  36483.776   1446.806   \n",
       "\n",
       "                 test_MAE           MSE       RMSE       MAE  \n",
       "DecisionTree     7804.656  1.563038e+08  12502.151  1554.976  \n",
       "SVR              8970.510  1.632722e+08  12777.801  2820.077  \n",
       "RandomForest     7332.652  1.556256e+08  12475.000  1096.871  \n",
       "MLP              9138.995  1.605368e+08  12670.310  2849.372  \n",
       "BenchmarkModel1  8883.119  1.634752e+08  12785.740  2727.764  \n",
       "BenchmarkModel2  8273.160  1.609074e+08  12684.927  2255.364  "
      ]
     },
     "execution_count": 66,
     "metadata": {},
     "output_type": "execute_result"
    }
   ],
   "source": [
    "%%time\n",
    "\n",
    "scores = ['train_MSE','test_MSE','train_RMSE','test_RMSE','train_MAE','test_MAE','MSE','RMSE','MAE']\n",
    "\n",
    "models = ['DecisionTree','SVR','RandomForest','MLP','BenchmarkModel1','BenchmarkModel2']\n",
    "\n",
    "results = pd.DataFrame(0.0, columns = scores, index = models)\n",
    "\n",
    "models_names = [DecisionTree, SVR, RandomForest,MLP,'BenchmarkModel1','BenchmarkModel2']\n",
    "\n",
    "\n",
    "for i, mname in enumerate(models_names):\n",
    "    if mname == 'BenchmarkModel1':\n",
    "        y_pred_train = train_b1[\"Generation_predictions\"]\n",
    "        y_pred_train = np.array(y_pred_train)\n",
    "        y_pred_test = test_b1[\"Generation_predictions\"]\n",
    "        y_pred_test = np.array(y_pred_test)\n",
    "        y_pred = all_b1[\"Generation_predictions\"]\n",
    "        y_pred = np.array(y_pred)\n",
    "        \n",
    "        results.iloc[i,0] = mean_squared_error(y_train, y_pred_train)\n",
    "        results.iloc[i,1] = mean_squared_error(y_test, y_pred_test)\n",
    "        results.iloc[i,2] = np.sqrt(mean_squared_error(y_train, y_pred_train))\n",
    "        results.iloc[i,3] = np.sqrt(mean_squared_error(y_test, y_pred_test))\n",
    "        results.iloc[i,4] = mean_absolute_error(y_train, y_pred_train)\n",
    "        results.iloc[i,5] = mean_absolute_error(y_test, y_pred_test)\n",
    "        results.iloc[i,6] = mean_squared_error(y, y_pred)\n",
    "        results.iloc[i,7] = np.sqrt(mean_squared_error(y, y_pred))\n",
    "        results.iloc[i,8] = mean_absolute_error(y, y_pred)\n",
    "        # results.iloc[i,6] = r2_score(y_test, y_pred_test)\n",
    "    elif mname == 'BenchmarkModel2':\n",
    "        y_pred_train = train_b2[\"Generation_predictions\"]\n",
    "        y_pred_train = np.array(y_pred_train)\n",
    "        y_pred_test = test_b2[\"Generation_predictions\"]\n",
    "        y_pred_test = np.array(y_pred_test)\n",
    "        y_pred = all_b2[\"Generation_predictions\"]\n",
    "        y_pred = np.array(y_pred)\n",
    "        \n",
    "        results.iloc[i,0] = mean_squared_error(y_train_b2, y_pred_train)\n",
    "        results.iloc[i,1] = mean_squared_error(y_test_b2, y_pred_test)\n",
    "        results.iloc[i,2] = np.sqrt(mean_squared_error(y_train_b2, y_pred_train))\n",
    "        results.iloc[i,3] = np.sqrt(mean_squared_error(y_test_b2, y_pred_test))\n",
    "        results.iloc[i,4] = mean_absolute_error(y_train_b2, y_pred_train)\n",
    "        results.iloc[i,5] = mean_absolute_error(y_test_b2, y_pred_test)\n",
    "        results.iloc[i,6] = mean_squared_error(y_all_b2, y_pred)\n",
    "        results.iloc[i,7] = np.sqrt(mean_squared_error(y_all_b2, y_pred))\n",
    "        results.iloc[i,8] = mean_absolute_error(y_all_b2, y_pred)\n",
    "        # results.iloc[i,6] = r2_score(y_test_b2, y_pred_test)\n",
    "    elif mname == MLP:\n",
    "        y_pred_train = MLP(X_train_tensor).detach().numpy()\n",
    "        y_pred_test = MLP(X_test_tensor).detach().numpy()\n",
    "        y_pred = MLP(X_tensor).detach().numpy()\n",
    "        \n",
    "        results.iloc[i,0] = mean_squared_error(y_train, y_pred_train)\n",
    "        results.iloc[i,1] = mean_squared_error(y_test, y_pred_test)\n",
    "        results.iloc[i,2] = np.sqrt(mean_squared_error(y_train, y_pred_train))\n",
    "        results.iloc[i,3] = np.sqrt(mean_squared_error(y_test, y_pred_test))\n",
    "        results.iloc[i,4] = mean_absolute_error(y_train, y_pred_train)\n",
    "        results.iloc[i,5] = mean_absolute_error(y_test, y_pred_test)\n",
    "        results.iloc[i,6] = mean_squared_error(y, y_pred)\n",
    "        results.iloc[i,7] = np.sqrt(mean_squared_error(y, y_pred))\n",
    "        results.iloc[i,8] = mean_absolute_error(y, y_pred)\n",
    "        # results.iloc[i,6] = r2_score(y_test, y_pred_test)\n",
    "    else:\n",
    "        model = mname\n",
    "        y_pred_train = model.predict(X_train)\n",
    "        y_pred_test = model.predict(X_test)\n",
    "        y_pred = model.predict(X)\n",
    "        \n",
    "        results.iloc[i,0] = mean_squared_error(y_train, y_pred_train)\n",
    "        results.iloc[i,1] = mean_squared_error(y_test, y_pred_test)\n",
    "        results.iloc[i,2] = np.sqrt(mean_squared_error(y_train, y_pred_train))\n",
    "        results.iloc[i,3] = np.sqrt(mean_squared_error(y_test, y_pred_test))\n",
    "        results.iloc[i,4] = mean_absolute_error(y_train, y_pred_train)\n",
    "        results.iloc[i,5] = mean_absolute_error(y_test, y_pred_test)\n",
    "        results.iloc[i,6] = mean_squared_error(y, y_pred)\n",
    "        results.iloc[i,7] = np.sqrt(mean_squared_error(y, y_pred))\n",
    "        results.iloc[i,8] = mean_absolute_error(y, y_pred)\n",
    "        # results.iloc[i,6] = r2_score(y_test, y_pred_test)\n",
    "        \n",
    "\n",
    "results.round(3)"
   ]
  },
  {
   "cell_type": "code",
   "execution_count": 67,
   "id": "58dc5148-0539-443b-9e18-f77437266bf8",
   "metadata": {},
   "outputs": [
    {
     "data": {
      "text/html": [
       "<div>\n",
       "<style scoped>\n",
       "    .dataframe tbody tr th:only-of-type {\n",
       "        vertical-align: middle;\n",
       "    }\n",
       "\n",
       "    .dataframe tbody tr th {\n",
       "        vertical-align: top;\n",
       "    }\n",
       "\n",
       "    .dataframe thead th {\n",
       "        text-align: right;\n",
       "    }\n",
       "</style>\n",
       "<table border=\"1\" class=\"dataframe\">\n",
       "  <thead>\n",
       "    <tr style=\"text-align: right;\">\n",
       "      <th></th>\n",
       "      <th>MSE</th>\n",
       "      <th>RMSE</th>\n",
       "      <th>MAE</th>\n",
       "    </tr>\n",
       "  </thead>\n",
       "  <tbody>\n",
       "    <tr>\n",
       "      <th>DecisionTree</th>\n",
       "      <td>1.563038e+08</td>\n",
       "      <td>12502.151</td>\n",
       "      <td>1554.976</td>\n",
       "    </tr>\n",
       "    <tr>\n",
       "      <th>SVR</th>\n",
       "      <td>1.632722e+08</td>\n",
       "      <td>12777.801</td>\n",
       "      <td>2820.077</td>\n",
       "    </tr>\n",
       "    <tr>\n",
       "      <th>RandomForest</th>\n",
       "      <td>1.556256e+08</td>\n",
       "      <td>12475.000</td>\n",
       "      <td>1096.871</td>\n",
       "    </tr>\n",
       "    <tr>\n",
       "      <th>MLP</th>\n",
       "      <td>1.605368e+08</td>\n",
       "      <td>12670.310</td>\n",
       "      <td>2849.372</td>\n",
       "    </tr>\n",
       "    <tr>\n",
       "      <th>BenchmarkModel1</th>\n",
       "      <td>1.634752e+08</td>\n",
       "      <td>12785.740</td>\n",
       "      <td>2727.764</td>\n",
       "    </tr>\n",
       "    <tr>\n",
       "      <th>BenchmarkModel2</th>\n",
       "      <td>1.609074e+08</td>\n",
       "      <td>12684.927</td>\n",
       "      <td>2255.364</td>\n",
       "    </tr>\n",
       "  </tbody>\n",
       "</table>\n",
       "</div>"
      ],
      "text/plain": [
       "                          MSE       RMSE       MAE\n",
       "DecisionTree     1.563038e+08  12502.151  1554.976\n",
       "SVR              1.632722e+08  12777.801  2820.077\n",
       "RandomForest     1.556256e+08  12475.000  1096.871\n",
       "MLP              1.605368e+08  12670.310  2849.372\n",
       "BenchmarkModel1  1.634752e+08  12785.740  2727.764\n",
       "BenchmarkModel2  1.609074e+08  12684.927  2255.364"
      ]
     },
     "execution_count": 67,
     "metadata": {},
     "output_type": "execute_result"
    }
   ],
   "source": [
    "results.iloc[:,6:9].round(3)"
   ]
  },
  {
   "cell_type": "code",
   "execution_count": null,
   "id": "84cf2960-b4c7-47ee-8505-672f94fd615b",
   "metadata": {},
   "outputs": [],
   "source": []
  }
 ],
 "metadata": {
  "kernelspec": {
   "display_name": "Python 3 (ipykernel)",
   "language": "python",
   "name": "python3"
  },
  "language_info": {
   "codemirror_mode": {
    "name": "ipython",
    "version": 3
   },
   "file_extension": ".py",
   "mimetype": "text/x-python",
   "name": "python",
   "nbconvert_exporter": "python",
   "pygments_lexer": "ipython3",
   "version": "3.10.9"
  }
 },
 "nbformat": 4,
 "nbformat_minor": 5
}
